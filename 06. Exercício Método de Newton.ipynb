{
 "cells": [
  {
   "cell_type": "markdown",
   "id": "a2bcef49-2bd3-49b8-b297-fb8fba8f8f77",
   "metadata": {},
   "source": [
    "# Exercício - método de Newton\n",
    "\n",
    "Considere o polinômio de Legendre de quinta ordem, mapeado em $-1 \\leq x \\leq 1$.\n",
    "\n",
    "$$\n",
    "P_5(x) = \\frac 1 8 \\left( 63 x^5 - 70 x^3 + 15 x \\right).\n",
    "$$"
   ]
  },
  {
   "cell_type": "markdown",
   "id": "73b4ecf4-7d21-4b5c-9e31-4151b85be577",
   "metadata": {},
   "source": [
    "As raízes deste polinômio são os pontos de amostragem do método de integração da quadratura gaussiana, com $N = 5$.  Não existe uma fórmula geral para encontrar as raízes de um polinômio de quinta ordem, mas podemos encontrá-las facilmente usando um computador. O Método de Newton é muito usado para determinar as raízes deste tipo de polinômio."
   ]
  },
  {
   "cell_type": "markdown",
   "id": "b0d95fe5-66d3-4662-a404-77b11f397b29",
   "metadata": {},
   "source": [
    "**a.** Faça um gráfico de $P_5(x)$ no intervalos $-1 \\leq x \\leq 1$ e, de inspeção visual, guarde valores aproximados para as cinco raízes desse polinômio."
   ]
  },
  {
   "cell_type": "code",
   "execution_count": null,
   "id": "5bcf67d7-52fe-434e-859e-eb25037ca16c",
   "metadata": {},
   "outputs": [],
   "source": []
  },
  {
   "cell_type": "markdown",
   "id": "fe6c5d3f-fb81-4cd4-a748-d7efde3c97b3",
   "metadata": {},
   "source": [
    "**b.** Escreva um programa que encontre essas raízes com uma precisão de 10 casas decimais, usando o método de Newton. Compare o seu resultado com  o valor calculado usando o pacote `scipy`, para ter certeza que encontrou a solução."
   ]
  },
  {
   "cell_type": "code",
   "execution_count": null,
   "id": "4f1ced08-cb46-400a-bf3c-e64effe9b643",
   "metadata": {},
   "outputs": [],
   "source": [
    "from scipy.special import roots_legendre\n",
    "xl, wl = roots_legendre(n=5)\n",
    "print(f'resultado esperado: {xl}')"
   ]
  },
  {
   "cell_type": "code",
   "execution_count": null,
   "id": "47ac2ed6-7e00-4385-ab9e-38edfa604ddc",
   "metadata": {},
   "outputs": [],
   "source": []
  }
 ],
 "metadata": {
  "kernelspec": {
   "display_name": "Python 3 (ipykernel)",
   "language": "python",
   "name": "python3"
  },
  "language_info": {
   "codemirror_mode": {
    "name": "ipython",
    "version": 3
   },
   "file_extension": ".py",
   "mimetype": "text/x-python",
   "name": "python",
   "nbconvert_exporter": "python",
   "pygments_lexer": "ipython3",
   "version": "3.11.4"
  }
 },
 "nbformat": 4,
 "nbformat_minor": 5
}
