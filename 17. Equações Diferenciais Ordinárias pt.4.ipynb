{
 "cells": [
  {
   "cell_type": "markdown",
   "metadata": {},
   "source": [
    "# Equações diferenciais ordinárias"
   ]
  },
  {
   "cell_type": "markdown",
   "metadata": {},
   "source": [
    "## Método de Runge–Kutta de ordem 4"
   ]
  },
  {
   "cell_type": "markdown",
   "metadata": {},
   "source": [
    "O método de Runge–Kutta de quarta ordem (conhecido como RK4) é outro método que visa determinar a solução de uma EDO do tipo\n",
    "\n",
    "$$\n",
    "\\frac{\\mathrm{d}x}{\\mathrm{d}t} = f(x, t)\n",
    "$$\n",
    "\n",
    "integrando-a no tempo. Relembrando, chegamos à equação\n",
    "\n",
    "\\begin{align}\n",
    "x(t + h) & = x(t) + \\int_{t}^{t + h} f\\left( x(t^\\prime), t^\\prime \\right)\\,\\mathrm{d}t^\\prime.\n",
    "\\end{align}"
   ]
  },
  {
   "cell_type": "markdown",
   "metadata": {},
   "source": [
    "No método RK2, usamos dois passos para aproximar o valor da integral, o ponto inicial em $t$ e o ponto destino $t + h$, que ainda não conhecemos. Com RK4 tomamos mais dois pontos intermediários, calculados em $t + \\frac{h}{2}$. A [dedução da fórmula RK4](https://www.ufrgs.br/reamat/CalculoNumerico/livro-py/pdvi-metodos_de_runge-kutta_explicitos.html) é parecida com a RK2, porém envolve resolver um sistema de equações (mais ou menos como fizemos com a regra de integração de Simpson), e resulta num conjunto de métodos possíveis. O mais usado é"
   ]
  },
  {
   "cell_type": "markdown",
   "metadata": {},
   "source": [
    "\\begin{align}\n",
    "k_1 &= h f(x, t) \\\\\n",
    "k_2 &= h f(x + \\frac{k_1}{2}, t + \\frac{h}{2}) \\\\\n",
    "k_3 &= h f(x + \\frac{k_2}{2}, t + \\frac{h}{2}) \\\\\n",
    "k_4 &= h f(x + k_3, t + h) \\\\\n",
    "x(t+h) &= x(t) + \\frac 1 6 (k_1 + 2 k_2 + 2 k_3 + k_4).\n",
    "\\end{align}"
   ]
  },
  {
   "cell_type": "markdown",
   "metadata": {},
   "source": [
    "Embora seja necessário calcular $f(x)$ 4 vezes a cada iteração, o RK4 é preciso até termos de ordem $h^4$, com erros da ordem de $h^5$."
   ]
  },
  {
   "cell_type": "markdown",
   "metadata": {},
   "source": [
    "### Exercício 1\n",
    "\n",
    "Vamos resolver pela última vez o exemplo\n",
    "\n",
    "$$\n",
    "\\frac{\\mathrm{d}x}{\\mathrm{d}t} = - x^3 + \\sin t.\n",
    "$$"
   ]
  },
  {
   "cell_type": "markdown",
   "metadata": {},
   "source": [
    "Primeiro, discretizamos o método RK4, fazendo $t = t_j$, $x(t) = x_j$, $t + h = t_{j + 1}$ e $x(t + h) = x_{j + 1}$. Assim,\n",
    "\n",
    "\\begin{align}\n",
    "k_1 &= h f(x_j, t_j) \\\\\n",
    "k_2 &= h f(x_j + \\dfrac{k_1}{2}, t_j + \\frac{h}{2}) \\\\\n",
    "k_3 &= h f(x_j + \\frac{k_2}{2}, t_j + \\frac{h}{2}) \\\\\n",
    "k_4 &= h f(x_j + k_3, t_j + h) \\\\\n",
    "x_{j+1} &= x_j + \\frac 1 6 (k_1 + 2 k_2 + 2 k_3 + k_4).\n",
    "\\end{align}\n"
   ]
  },
  {
   "cell_type": "markdown",
   "metadata": {},
   "source": [
    "Resolva a EDO usando o método RK4, para $0 < t < 30$, com $x=0$ em $t=0$, usando passos de $h = 0.5$."
   ]
  },
  {
   "cell_type": "code",
   "execution_count": null,
   "metadata": {},
   "outputs": [],
   "source": []
  },
  {
   "cell_type": "markdown",
   "metadata": {},
   "source": [
    "### Exercício 2\n",
    "\n",
    "As equações de Lotka–Volterra são um modelo matemático de interações predador–presa entre espécies. Sejam duas variáveis $x$ e $y$ proporcionais às populações de de duas espécies, $x$ são capivaras (presas) e $y$ são as onças pintadas (predadores). Vamos supor que as populações são grandes o suficiente para que possamos considerá-las como números reais, e tratar o problema com funções contínuas (pense o que pode significar uma [população de $10^{-18}$ onças](http://arima.inria.fr/020/pdf/vol.20.pp.95-125.pdf))."
   ]
  },
  {
   "cell_type": "markdown",
   "metadata": {},
   "source": [
    "A reprodução consome energia dos animais, logo precisamos saber a fonte dessa energia para capivaras e onças pintadas. No modelo de Lotka–Volterra as capivaras têm comida à vontade (são herbívoras e o mato cresce rápido), logo elas se reproduzem numa taxa proporcional apenas à sua população (parâmetro $\\alpha$). Porém, são comidas pelas onças. Supondo que cada encontro entre uma onça e uma capivara tem uma chance fixa de terminar em uma refeição, o número total de capivaras comidas é proporcional tanto à sua população quando à população das onças (parâmetro $\\beta$). Ou seja, a variação na população de capivaras é dado pela equação\n",
    "\n",
    "$$\n",
    "\\frac{\\mathrm{d}x}{\\mathrm{d}t} = \\alpha x - \\beta x y,\n",
    "$$\n",
    "\n",
    "reforçando que $\\alpha$ e $\\beta$ são constantes."
   ]
  },
  {
   "cell_type": "markdown",
   "metadata": {},
   "source": [
    "Ao mesmo tempo, a comida das onças é escassa, a sua fonte de energia é a população de capivaras. Assim, as onças se reproduzem numa taxa (parâmetro $\\gamma$) proporcional à que comem as capivaras, além da sua própria população. Por outro lado, as onças morrem de velhice, numa taxa (parâmetro $\\delta$) proporcional à sua população. Temos então que a taxa de variação da população de onças pintadas é dada por\n",
    "\n",
    "$$\n",
    "\\frac{\\mathrm{d}y}{\\mathrm{d}t} = \\gamma x y - \\delta y,\n",
    "$$\n",
    "\n",
    "com $\\gamma$ e $\\delta$ também constantes."
   ]
  },
  {
   "cell_type": "markdown",
   "metadata": {},
   "source": [
    "Escreva um programa para resolver estas equações usando o método RK4, para o caso de $\\alpha=1$, $\\beta = 0.5$, $\\gamma = 0.5$ e $\\delta = 2$, com a condição inicial de $x = y = 2$. Faça um gráfico da solução mostrando as duas populações nos mesmo axes (apenas 1 subplot), indo de $t=0$ até $t=30$. Faça também o gráfico do espaço de fase ($x$ contra $y$), e verifique se a órbita é fechada."
   ]
  },
  {
   "cell_type": "code",
   "execution_count": null,
   "metadata": {},
   "outputs": [],
   "source": []
  },
  {
   "cell_type": "markdown",
   "metadata": {},
   "source": [
    "## Na vida real\n",
    "Como sempre, existem métodos \"enlatados\" para resolver EDOs, dado que são problemas muito comuns em ciência. Em python, podemos usar a função `scipy.integrate.solve_ivp()` (IVP é sigla para *Initial Value Problem*). Esta função tem vários métodos embutidos, incluindo variações do Runge–Kutta. Veja o mesmo exemplo resolvido abaixo, e [leia a documentação](https://docs.scipy.org/doc/scipy/reference/generated/scipy.integrate.solve_ivp.html#scipy.integrate.solve_ivp)."
   ]
  },
  {
   "cell_type": "code",
   "execution_count": null,
   "metadata": {},
   "outputs": [],
   "source": [
    "from scipy.integrate import solve_ivp\n",
    "import numpy as np\n",
    "\n",
    "alpha = 1.0\n",
    "beta = 0.5\n",
    "gamma = 0.5\n",
    "delta = 2.0\n",
    "\n",
    "# solve_ivp requer os argumentos em ordem inversa\n",
    "# do que costumamos usar.\n",
    "def f(t, r):\n",
    "    x, y = r\n",
    "    fx = alpha * x - beta * x * y\n",
    "    fy = gamma * x * y - delta * y\n",
    "    return np.array([fx, fy])\n",
    "    \n",
    "\n",
    "# t_span é o período de tempo.\n",
    "# t_eval são os pontos onde queremos saber o valor da solução.\n",
    "# y0 é a condição inicial.\n",
    "t0 = 0.0\n",
    "tf = 30.0\n",
    "h = 0.1\n",
    "y0 = [2, 2]\n",
    "t_s = np.arange(t0, tf, h)\n",
    "sol = solve_ivp(f, method='RK45', t_span=[t0, tf],\n",
    "                t_eval=t_s, y0=y0)\n",
    "print(f'Solução convergiu? {sol[\"success\"]}')\n",
    "print(f'Mensagem: {sol[\"message\"]}')"
   ]
  },
  {
   "cell_type": "code",
   "execution_count": null,
   "metadata": {},
   "outputs": [],
   "source": [
    "import matplotlib.pyplot as plt\n",
    "\n",
    "plt.style.use('ggplot')\n",
    "plt.rcParams['font.family'] = 'serif'\n",
    "plt.rcParams['mathtext.fontset'] = 'stix'\n",
    "fig, ax = plt.subplots()\n",
    "\n",
    "x_s = sol.y[0]\n",
    "y_s = sol.y[1]\n",
    "\n",
    "ax.plot(t_s, x_s, 'r-', label=f'$x(t)$ - solve_ivp')\n",
    "ax.plot(t_s, y_s, 'b-', label=f'$y(t)$ - solve_ivp')\n",
    "ax.set_xlabel('$t$')\n",
    "ax.legend(frameon=False, loc='upper right')\n",
    "plt.show()"
   ]
  },
  {
   "cell_type": "code",
   "execution_count": null,
   "metadata": {
    "scrolled": true
   },
   "outputs": [],
   "source": [
    "fig, ax = plt.subplots()\n",
    "ax.plot(x_s, y_s, 'r-')\n",
    "ax.set_xlabel('$x$')\n",
    "ax.set_ylabel('$y$')\n",
    "ax.grid(True)\n",
    "plt.show()"
   ]
  }
 ],
 "metadata": {
  "kernelspec": {
   "display_name": "Python 3 (ipykernel)",
   "language": "python",
   "name": "python3"
  },
  "language_info": {
   "codemirror_mode": {
    "name": "ipython",
    "version": 3
   },
   "file_extension": ".py",
   "mimetype": "text/x-python",
   "name": "python",
   "nbconvert_exporter": "python",
   "pygments_lexer": "ipython3",
   "version": "3.11.6"
  }
 },
 "nbformat": 4,
 "nbformat_minor": 4
}
