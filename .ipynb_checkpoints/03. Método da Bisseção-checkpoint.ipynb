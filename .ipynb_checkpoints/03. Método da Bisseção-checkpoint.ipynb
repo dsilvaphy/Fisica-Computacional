{
 "cells": [
  {
   "cell_type": "markdown",
   "metadata": {},
   "source": [
    "# Equações não-lineares de uma variável\n",
    "\n",
    "Muitos problemas na Física envolvem equações não-lineares. Resolver uma equação deste tipo pode ser um desafio enorme, e muitas vezes uma solução analítica não existe ou é desconhecida. Veremos aqui alguns métodos para resolver equações não-lineares de uma única variável."
   ]
  },
  {
   "cell_type": "markdown",
   "metadata": {},
   "source": [
    "## Método da bisseção\n",
    "\n",
    "O método da bisseção, também conhecido como busca binária, é um método robusto para resolver equações não-lineares de uma variável. O usuário especifica um intervalo onde ele espera que a solução esteja, e \n",
    "o método faz uma busca pela solução dentro deste intervalo. Se existe apenas uma solução dentro do intervalo, então o método a encontra. Um material mais detalhado sobre este método pode ser encontrado no livro colaborativo [Cálculo Numérico - versão Python](https://www.ufrgs.br/reamat/CalculoNumerico/livro-py/sdeduv-metodo_da_bissecao.html#x32-420003.2), do REAMAT/UFRGS, e também na seção 6.3.4 do livro do Mark Newman."
   ]
  },
  {
   "cell_type": "markdown",
   "metadata": {},
   "source": [
    "Quando temos uma equação não linear de uma variável, sempre podemos rearranjá-la de tal forma que todos os termos fiquem de um lado da igualdade. Isto é, podemos deixá-la na forma $f(x) = 0$. A busca da solução de uma equação é então equivalente a encontrar os zeros, ou raízes de $f(x)$.\n",
    "\n",
    "Este método é, na verdade, extremamente simples. Suponha que queremos saber a raiz $x^*$ da função $f(x)$ num intervalo entre $a$ e $b$, se ela existir. Primeiro, calculamos $f(a)$ e $f(b)$. Se $f(a)$ e $f(b)$ têm sinais opostos, e se a função $f(x)$ é contínua nesse intervalo, então a pelo teorema do valor intermediário a função $f(x)$ cruza o eixo $x$ pelo menos uma vez. Ou seja, existe pelo menos uma raiz da função nesse intervalo. Veja na figura abaixo."
   ]
  },
  {
   "cell_type": "markdown",
   "metadata": {},
   "source": [
    "*[CC BY-SA Pedro H A Konzen](https://github.com/reamat/CalculoNumerico/blob/master/cap_equacao1d/pics/metodo_da_bissecao/metodo_da_bissecao.py)*\n",
    "\n",
    "![Aproximações sucessivas do método da bisseção.](data:image/png;base64,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)"
   ]
  },
  {
   "cell_type": "markdown",
   "metadata": {},
   "source": [
    "Uma forma prática de fazer esta verificação é testar se $f(a) \\times f(b) < 0$.\n",
    "A ideia então é descobrir um modo de ir encolhendo o intervalo que \"cerca\" a raiz. Podemos tomar como primeira aproximação da raiz o ponto médio do intervalo $[a, b]$,\n",
    "\n",
    "$$\n",
    "x^{(0)} = \\frac{a+b}{2}.\n",
    "$$"
   ]
  },
  {
   "cell_type": "markdown",
   "metadata": {},
   "source": [
    "O valor da função neste ponto é $f(x^{(0)})$. Agora, se $f(x^{(0)}) \\times f(a) < 0$ (ou seja, $f(x^{(0)})$ e $f(a)$ têm sinais opostos), então sabemos que a raiz $x^*$ está no intervalo $[a, x^{(0)}]$. Se não, temos que $f(x^{(0)}) \\times f(b) < 0$, e $x^*$ está no intervalo $[x^{(0)}, b]$. Note que agora, a largura do intervalo caiu pela metade. Repetindo esta operação, podemos encontrar a aproximação seguinte, $x^{(1)}$, que, conforme a figura, cerca a raiz no intervalo $[x^{(0)}, x^{(1)}]$, diminuindo a largura do intervalo pela metade novamente. Podemos chegar muito próximos da raiz de $f(x)$ com um número modesto de iterações. Esta sequência de aproximações é o cerne do método da bisseção."
   ]
  },
  {
   "cell_type": "markdown",
   "metadata": {},
   "source": [
    "De fato, é mais conveniente definir o problema ao contrário. Ao invés de definir um número de iterações $N$, vamos especificar uma tolerância ou erro $\\epsilon$, que é a largura do intervalo. Inicialmente, tomamos $n = 0$. Então fazemos\n",
    "\n",
    "\\begin{align}\n",
    "a^{(n)} &= a,\\\\\n",
    "b^{(n)} &= b,\\\\\n",
    "x^{(n)} &= \\frac{a^{(n)} + b^{(n)}}{2}.\n",
    "\\end{align}"
   ]
  },
  {
   "cell_type": "markdown",
   "metadata": {},
   "source": [
    "Se a tolerância foi alcançada,\n",
    "\n",
    "$$\n",
    "\\left| b^{(n)} - a^{(n)} \\right| < \\epsilon,\n",
    "$$\n",
    "\n",
    "então $x^{(n)}$ é a solução desejada, próxima o suficiente da raiz $x^*$. Se não, começamos outra iteração $n+1$. Testamos se\n",
    "\n",
    "$$\n",
    "f(x^{(n)}) \\times f(a^{(n)}) < 0.\n",
    "$$"
   ]
  },
  {
   "cell_type": "markdown",
   "metadata": {},
   "source": [
    "Caso a condição seja verdadeira, $x^*$ está dentro do intervalo $[a^{(n)}, x^{(n)}]$, e precisamos \"cercar\" a raiz. Definimos então\n",
    "\n",
    "\\begin{align}\n",
    "a^{(n+1)} &= a^{(n)}, \\\\\n",
    "b^{(n+1)} &= x^{(n)}.\n",
    "\\end{align}"
   ]
  },
  {
   "cell_type": "markdown",
   "metadata": {},
   "source": [
    "No caso contrário, $x^*$ está dentro do intervalo $[x^{(n)}, b^{(n)}]$, e definimos\n",
    "\n",
    "\\begin{align}\n",
    "a^{(n+1)} &= x^{(n)}, \\\\\n",
    "b^{(n+1)} &= b^{(n)}.\n",
    "\\end{align}"
   ]
  },
  {
   "cell_type": "markdown",
   "metadata": {},
   "source": [
    "A nova aproximação agora é\n",
    "\n",
    "$$\n",
    "x^{(n+1)} = \\frac{a^{(n+1)} + b^{(n+1)}}{2}.\n",
    "$$"
   ]
  },
  {
   "cell_type": "markdown",
   "metadata": {},
   "source": [
    "Voltamos a verificar o critério de parada, e iteramos este procedimento até que alcancemos a tolerância $\\epsilon$. É sempre importante também limitar o número máximo de iterações, $N$, para evitar laços infinitos quando não houver convergência.\n",
    "Repare que o método é descrito na forma de um algoritmo, sendo muito facilmente traduzido a código. "
   ]
  },
  {
   "cell_type": "markdown",
   "metadata": {},
   "source": [
    "### Exemplo 1\n",
    "\n",
    "Vamos determinar a solução da equação\n",
    "\n",
    "$$\n",
    "\\mathrm{e}^{x} = x + 2\n",
    "$$\n",
    "\n",
    "no intervalo $[-2, 0]$, com precisão $\\epsilon = 10^{-5}$ (isto é, 5 casas decimais). Primeiro, vamo rescrever a equação como uma função\n",
    "\n",
    "$$\n",
    "f(x) = \\mathrm{e}^{x} - x - 2.\n",
    "$$\n",
    "\n",
    "Como vimos, achar a solução da equação é equivalente a encontrar as raízes de $f(x)$. Vamos primeiro definir a função."
   ]
  },
  {
   "cell_type": "code",
   "execution_count": 14,
   "metadata": {},
   "outputs": [],
   "source": [
    "import numpy as np\n",
    "\n",
    "def f(x):\n",
    "    return np.exp(x) - x - 2.0"
   ]
  },
  {
   "cell_type": "markdown",
   "metadata": {},
   "source": [
    "Para descobrir o intervalo inicial, é sempre interessante fazer o gráfico da função."
   ]
  },
  {
   "cell_type": "code",
   "execution_count": 17,
   "metadata": {},
   "outputs": [],
   "source": [
    "import matplotlib.pyplot as plt\n",
    "plt.style.use('ggplot')\n",
    "plt.rcParams['font.family'] = 'serif'\n",
    "plt.rcParams['mathtext.fontset'] = 'stix'"
   ]
  },
  {
   "cell_type": "code",
   "execution_count": 19,
   "metadata": {},
   "outputs": [
    {
     "data": {
      "image/png": "[encoded data removed]",
      "text/plain": [
       "<Figure size 640x480 with 1 Axes>"
      ]
     },
     "metadata": {},
     "output_type": "display_data"
    }
   ],
   "source": [
    "fig, ax = plt.subplots()\n",
    "x = np.linspace(-4, 2)\n",
    "ax.plot(x, f(x), label=r'$f(x)$')\n",
    "ax.axhline(0.0, ls='--', color='r', label=r'$y = 0$')\n",
    "ax.set_ylabel(r'$y$')\n",
    "ax.set_xlabel(r'$x$')\n",
    "ax.legend()\n",
    "plt.show()"
   ]
  },
  {
   "cell_type": "markdown",
   "metadata": {},
   "source": [
    "Veja que há duas soluções, uma próxima de $-2$ e outra próxima de $1$. Vamos calcular a primeira solução fazendo o intervalo inicial $[a, b] = [-3, -1]$."
   ]
  },
  {
   "cell_type": "code",
   "execution_count": 22,
   "metadata": {},
   "outputs": [
    {
     "name": "stdout",
     "output_type": "stream",
     "text": [
      "f(a) = 1.050\n",
      "f(b) = -0.632\n"
     ]
    }
   ],
   "source": [
    "n = 0\n",
    "a = -3.0\n",
    "b = -1.0\n",
    "epsilon = 1e-5\n",
    "\n",
    "print(f'f(a) = {f(a):.3f}')\n",
    "print(f'f(b) = {f(b):.3f}')"
   ]
  },
  {
   "cell_type": "markdown",
   "metadata": {},
   "source": [
    "Constatamos que $f(a)$ e $f(b)$ têm sinais opostos, então podemos começar a busca.\n",
    "Vejamos se a nossa condição de parada, $\\left| b - a \\right| < \\epsilon$, é satisfeita."
   ]
  },
  {
   "cell_type": "code",
   "execution_count": 25,
   "metadata": {},
   "outputs": [
    {
     "name": "stdout",
     "output_type": "stream",
     "text": [
      "delta = 2.00\n",
      "parar? False\n"
     ]
    }
   ],
   "source": [
    "delta = np.abs(b - a)\n",
    "print(f'delta = {delta:.2f}')\n",
    "print(f'parar? {delta < epsilon}')"
   ]
  },
  {
   "cell_type": "markdown",
   "metadata": {},
   "source": [
    "Ainda não alcançamos a tolerância necessária. Neste caso, precisamos escolher em qual dos sub-intervalos devemos continuar a busca. Calculamos a aproximação seguinte."
   ]
  },
  {
   "cell_type": "code",
   "execution_count": 28,
   "metadata": {},
   "outputs": [
    {
     "name": "stdout",
     "output_type": "stream",
     "text": [
      "xn = -2.00, f(xn) = 0.1353352832366128\n",
      "escolhemos o intervalo à direita.\n",
      "[a, b] = [-2.00, -1.00]\n",
      "delta = 1.00\n",
      "parar? False\n"
     ]
    }
   ],
   "source": [
    "xn = (a + b) / 2.0\n",
    "print(f'xn = {xn:.2f}, f(xn) = {f(xn)}')\n",
    "\n",
    "if (f(a) * f(xn)) < 0:\n",
    "    print('escolhemos o intervalo à esquerda.')\n",
    "    b = xn\n",
    "else:\n",
    "    print('escolhemos o intervalo à direita.')\n",
    "    a = xn\n",
    "\n",
    "print(f'[a, b] = [{a:.2f}, {b:.2f}]')\n",
    "\n",
    "delta = np.abs(b - a)\n",
    "print(f'delta = {delta:.2f}')\n",
    "print(f'parar? {delta < epsilon}')"
   ]
  },
  {
   "cell_type": "markdown",
   "metadata": {},
   "source": [
    "### Exercício 1\n",
    "\n",
    "Repita o procedimento descrito acima até atingir o nosso critério de parada dado pela tolerância $\\epsilon$."
   ]
  },
  {
   "cell_type": "code",
   "execution_count": 31,
   "metadata": {},
   "outputs": [
    {
     "name": "stdout",
     "output_type": "stream",
     "text": [
      "f(a) = 0.135, f(b) = -1.000\n",
      "x_n = -1.00000, f(x_n) = -0.63212\n",
      "Escolhemos o intervalo à esquerda.\n",
      "[a, b] = [-2.00000, -1.00000]\n",
      "Delta = 1.00000\n",
      "x_n = -1.50000, f(x_n) = -0.27687\n",
      "Escolhemos o intervalo à esquerda.\n",
      "[a, b] = [-2.00000, -1.50000]\n",
      "Delta = 0.50000\n",
      "x_n = -1.75000, f(x_n) = -0.07623\n",
      "Escolhemos o intervalo à esquerda.\n",
      "[a, b] = [-2.00000, -1.75000]\n",
      "Delta = 0.25000\n",
      "x_n = -1.87500, f(x_n) = 0.02835\n",
      "Escolhemos o intervalo à direita.\n",
      "[a, b] = [-1.87500, -1.75000]\n",
      "Delta = 0.12500\n",
      "x_n = -1.81250, f(x_n) = -0.02425\n",
      "Escolhemos o intervalo à esquerda.\n",
      "[a, b] = [-1.87500, -1.81250]\n",
      "Delta = 0.06250\n",
      "x_n = -1.84375, f(x_n) = 0.00197\n",
      "Escolhemos o intervalo à direita.\n",
      "[a, b] = [-1.84375, -1.81250]\n",
      "Delta = 0.03125\n",
      "x_n = -1.82812, f(x_n) = -0.01116\n",
      "Escolhemos o intervalo à esquerda.\n",
      "[a, b] = [-1.84375, -1.82812]\n",
      "Delta = 0.01562\n",
      "x_n = -1.83594, f(x_n) = -0.00460\n",
      "Escolhemos o intervalo à esquerda.\n",
      "[a, b] = [-1.84375, -1.83594]\n",
      "Delta = 0.00781\n",
      "x_n = -1.83984, f(x_n) = -0.00131\n",
      "Escolhemos o intervalo à esquerda.\n",
      "[a, b] = [-1.84375, -1.83984]\n",
      "Delta = 0.00391\n",
      "x_n = -1.84180, f(x_n) = 0.00033\n",
      "Escolhemos o intervalo à direita.\n",
      "[a, b] = [-1.84180, -1.83984]\n",
      "Delta = 0.00195\n",
      "x_n = -1.84082, f(x_n) = -0.00049\n",
      "Escolhemos o intervalo à esquerda.\n",
      "[a, b] = [-1.84180, -1.84082]\n",
      "Delta = 0.00098\n",
      "x_n = -1.84131, f(x_n) = -0.00008\n",
      "Escolhemos o intervalo à esquerda.\n",
      "[a, b] = [-1.84180, -1.84131]\n",
      "Delta = 0.00049\n",
      "x_n = -1.84155, f(x_n) = 0.00012\n",
      "Escolhemos o intervalo à direita.\n",
      "[a, b] = [-1.84155, -1.84131]\n",
      "Delta = 0.00024\n",
      "x_n = -1.84143, f(x_n) = 0.00002\n",
      "Escolhemos o intervalo à direita.\n",
      "[a, b] = [-1.84143, -1.84131]\n",
      "Delta = 0.00012\n",
      "x_n = -1.84137, f(x_n) = -0.00003\n",
      "Escolhemos o intervalo à esquerda.\n",
      "[a, b] = [-1.84143, -1.84137]\n",
      "Delta = 0.00006\n",
      "x_n = -1.84140, f(x_n) = -0.00000\n",
      "Escolhemos o intervalo à esquerda.\n",
      "[a, b] = [-1.84143, -1.84140]\n",
      "Delta = 0.00003\n",
      "x_n = -1.84142, f(x_n) = 0.00001\n",
      "Escolhemos o intervalo à direita.\n",
      "[a, b] = [-1.84142, -1.84140]\n",
      "Delta = 0.00002\n",
      "x_n = -1.84141, f(x_n) = 0.00000\n",
      "Escolhemos o intervalo à direita.\n",
      "[a, b] = [-1.84141, -1.84140]\n",
      "Delta = 0.00001\n",
      "A solução aproximada é x = -1.84141\n"
     ]
    }
   ],
   "source": [
    "import numpy as np\n",
    "\n",
    "def f(x):\n",
    "    return np.exp(x) - x - 2\n",
    "\n",
    "# Parâmetros iniciais\n",
    "a = -2\n",
    "b = 0\n",
    "epsilon = 1e-5  # Precisão de 10^-5\n",
    "\n",
    "print(f\"f(a) = {f(a):.3f}, f(b) = {f(b):.3f}\")\n",
    "\n",
    "if f(a) * f(b) > 0:\n",
    "    print(\"A função não muda de sinal no intervalo fornecido. Escolha outro intervalo.\")\n",
    "else:\n",
    "    while abs(b - a) > epsilon:\n",
    "        xn = (a + b) / 2\n",
    "        print(f\"x_n = {xn:.5f}, f(x_n) = {f(xn):.5f}\")\n",
    "        \n",
    "        if f(a) * f(xn) < 0:\n",
    "            b = xn\n",
    "            print(\"Escolhemos o intervalo à esquerda.\")\n",
    "        else:\n",
    "            a = xn\n",
    "            print(\"Escolhemos o intervalo à direita.\")\n",
    "        \n",
    "        print(f\"[a, b] = [{a:.5f}, {b:.5f}]\")\n",
    "        print(f\"Delta = {abs(b - a):.5f}\")\n",
    "    \n",
    "    print(f\"A solução aproximada é x = {xn:.5f}\")\n"
   ]
  },
  {
   "cell_type": "markdown",
   "metadata": {},
   "source": [
    "### Convergência da solução\n",
    "\n",
    "Se tudo deu certo no Exercício 1, você encontrou a solução com cerca de 18 iterações."
   ]
  },
  {
   "cell_type": "markdown",
   "metadata": {},
   "source": [
    "A precisão do resultado melhora muito rapidamente com $N$, pois o intervalo diminui pela metade a cada passo. Se o tamanho inicial do intervalo é $\\Delta = |b^{(0)} - a^{(0)}|$ , no passo seguinte é $\\Delta^{(1)} = \\Delta / 2$. Em $N$ passos, o tamanho do intervalo é $\\Delta^{(N)} = \\Delta / 2^N$. Conforme o nosso critério de parada, se quisermos parar em $N$ passos,\n",
    "\n",
    "\\begin{align}\n",
    "\\left| b^{(N)} - a^{(N)} \\right| = \\Delta^{(N)} &= \\epsilon \\\\\n",
    "\\frac{\\Delta}{2^N} &= \\epsilon \\\\\n",
    "2^N &= \\frac{\\Delta}{\\epsilon}\n",
    "\\end{align}"
   ]
  },
  {
   "cell_type": "markdown",
   "metadata": {},
   "source": [
    "Tomando o logaritmo de base 2 em ambos os lados,\n",
    "\n",
    "$$\n",
    "N = \\log_2 \\frac{\\Delta}{\\epsilon}\n",
    "$$"
   ]
  },
  {
   "cell_type": "markdown",
   "metadata": {},
   "source": [
    "No nosso exemplo, $\\Delta = 2$ e $\\epsilon = 10^{-5}$. O número estimado de passos é $N \\approx 17.6$, concordando com o nosso resultado.\n",
    "\n",
    "Mesmo se escolhermos uma precisão muito grande, como $\\epsilon = 10^{-20}$, ainda assim precisamos apenas $N = 68$ passos para encontrar a raiz, uma quantidade bastante razoável para um computador executar praticamente de forma instantânea. Isso faz com que o método da bisseção seja um doa mais utilizados para determinar raízes de funções."
   ]
  },
  {
   "cell_type": "markdown",
   "metadata": {},
   "source": [
    "Mas, nem tudo são flores. Primeiro, é preciso já ter uma ideia de onde a solução ou raiz está. Pelo menos, precisamos de dois pontos $a$ e $b$ tais que $f(a)$ e $f(b)$ tenham sinais opostos. Isto nem sempre é fácil de obter. Um outro problema é que este método não encontra as chamadas raízes múltiplas, tais como as da função $f(x) = 1 - x^2$. As duas raízes são $x^* = 1$, mas a função apenas toca o eixo x, não o cruza. Logo, qualquer par de pontos $a$, à esquerda de $x^*$, e $b$, à direita de $x^*$, têm valor da função $f(x)$ positivo. Assim, $f(a) \\cdot f(b) > 0$, mesmo com o intervalo $[a, b]$ cercando $x^*$. Neste caso, o método da bisseção não vai funcionar, precisamos de outro método."
   ]
  },
  {
   "cell_type": "markdown",
   "metadata": {},
   "source": [
    "### Exercício 2\n",
    "\n",
    "A lei da radiação de Planck nos diz que a energia irradiada, por unidade de tempo, por unidade de área, por unidade de ângulo sólido e por unidade de comprimento de onda $\\lambda$, de um corpo negro à temperatura $T$, é\n",
    "\n",
    "$$\n",
    "B(\\lambda) = \\frac{2 \\pi h c^2 \\lambda^{-5}}{\\exp\\left(\\frac{hc}{\\lambda k_\\mathrm{B} T} \\right) - 1}\\ [\\rm{J}\\,\\rm{s}^{-1}\\,\\rm{m}^{-2}\\,\\rm{sr}^{-1}\\,\\rm{m}^{-1}],\n",
    "$$"
   ]
  },
  {
   "cell_type": "markdown",
   "metadata": {},
   "source": [
    "onde $h$ é a constante de Planck, $c$ é a velocidade da luz, e $k_\\mathrm{B}$ é a constante de Boltzmann. O seu gráfico, para $T = 5500 \\,K$ é"
   ]
  },
  {
   "cell_type": "code",
   "execution_count": null,
   "metadata": {},
   "outputs": [],
   "source": [
    "kB = 1.380649e-23 # [J/K]\n",
    "h = 6.62607015e-34 # [J.s]\n",
    "c = 299792458.0 # [m/s]\n",
    "\n",
    "def B(l, T):\n",
    "    n = 2 * np.pi * h * c**2 * l**-5\n",
    "    d = np.exp(h * c / (l * kB * T)) - 1\n",
    "    return n / d\n",
    "\n",
    "\n",
    "fig, ax = plt.subplots()\n",
    "ll = np.linspace(100.0e-9, 1000.0e-9)\n",
    "ax.plot(ll / 1e-9, B(ll, T=5500.0), label=r'$B(\\lambda), T= 5500\\,K$')\n",
    "ax.set_ylabel(r'$B(\\lambda)$')\n",
    "ax.set_xlabel(r'$\\lambda [nm]$')\n",
    "ax.legend()\n",
    "plt.show()"
   ]
  },
  {
   "cell_type": "markdown",
   "metadata": {},
   "source": [
    "O comprimento onde a intensidade é máxima é dado pela lei emprírica do deslocamento de Wien,\n",
    "\n",
    "$$\n",
    "\\lambda_\\mathrm{M} = \\frac{b_\\mathrm{W}}{T}.\n",
    "$$"
   ]
  },
  {
   "cell_type": "markdown",
   "metadata": {},
   "source": [
    "Podemos encontrar qual o valor da constante $b_\\mathrm{W}$ calculando o ponto onde a Lei de Planck tem seu valor máximo. Para encontrar o ponto de máximo, diferenciamos $B(\\lambda)$ com relação à $\\lambda$, e tomamos o ponto $\\lambda_\\mathrm{M}$ onde a derivada é zero. Isto é\n",
    "\n",
    "$$\n",
    "5 \\exp \\left( - \\frac{hc}{\\lambda_\\mathrm{M} k_\\mathrm{B} T} \\right) + \\frac{hc}{\\lambda_\\mathrm{M} k_\\mathrm{B} T} - 5 = 0.\n",
    "$$"
   ]
  },
  {
   "cell_type": "markdown",
   "metadata": {},
   "source": [
    "Precisamos encontrar o valor de $\\lambda_\\mathrm{M}$ que satisfaz esta equação. Podemos fazer a seguinte mudança de variáveis:\n",
    "\n",
    "$$\n",
    "x = \\frac{hc}{\\lambda_\\mathrm{M} k_\\mathrm{B} T},\n",
    "$$\n",
    "\n",
    "deixando a equação na forma\n",
    "\n",
    "$$\n",
    "5 \\mathrm{e}^{-x} + x - 5 = 0.\n",
    "$$"
   ]
  },
  {
   "cell_type": "markdown",
   "metadata": {},
   "source": [
    "Veja que, da definção de $x$, já temos a lei de Wien, com a constante $b_\\mathrm{W}$ dada por\n",
    "\n",
    "$$\n",
    "\\lambda_M = \\frac{hc}{x k_\\mathrm{B} T} \\\\\n",
    "\\implies b_\\mathrm{W} = \\frac{hc}{x k_\\mathrm{B}}.\n",
    "$$\n",
    "\n",
    "Basta apenas determinar $x$ usando o método da bisseção."
   ]
  },
  {
   "cell_type": "markdown",
   "metadata": {},
   "source": [
    "**a.** Defina a função $f(x) = 5 \\mathrm{e}^{-x} + x - 5$."
   ]
  },
  {
   "cell_type": "code",
   "execution_count": 39,
   "metadata": {},
   "outputs": [],
   "source": [
    "def f(x):\n",
    "    return 5 * np.exp(-x) + x - 5"
   ]
  },
  {
   "cell_type": "markdown",
   "metadata": {},
   "source": [
    "**b.** Como ainda não temos ideia de onde fica a raiz desta função, é preciso plotá-la. Este é um trabalho manual, procure em alguns intervalos. Certifique-se de cercar a raiz, mas não se preocupe em chegar muito perto. Lembre que o método vai fazer esse serviço muito rapidamente!\n",
    "\n",
    "*Nota: $x=0$ é uma raiz trivial, ela não nos interessa.*"
   ]
  },
  {
   "cell_type": "code",
   "execution_count": 58,
   "metadata": {},
   "outputs": [
    {
     "data": {
      "image/png": "[encoded data removed]",
      "text/plain": [
       "<Figure size 640x480 with 1 Axes>"
      ]
     },
     "metadata": {},
     "output_type": "display_data"
    }
   ],
   "source": [
    "x = np.linspace(0, 5, 500)\n",
    "\n",
    "plt.plot(x, f(x), label=r\"$f(x) = 5e^{-x} + x - 5$\")\n",
    "plt.axhline(0, color='r', linestyle='--', label=\"y=0\")\n",
    "plt.xlabel(\"x\")\n",
    "plt.ylabel(\"f(x)\")\n",
    "plt.legend()\n",
    "plt.grid()\n",
    "plt.title(\"Gráfico de $f(x)$\")\n",
    "plt.show()\n"
   ]
  },
  {
   "cell_type": "markdown",
   "metadata": {},
   "source": [
    "**c.**  Use o método da bisseção, e encontre a solução com uma tolerância de $\\epsilon = 10^{-10}$."
   ]
  },
  {
   "cell_type": "code",
   "execution_count": 63,
   "metadata": {},
   "outputs": [
    {
     "ename": "ValueError",
     "evalue": "f(a) e f(b) devem ter sinais opostos.",
     "output_type": "error",
     "traceback": [
      "\u001b[1;31m---------------------------------------------------------------------------\u001b[0m",
      "\u001b[1;31mValueError\u001b[0m                                Traceback (most recent call last)",
      "Cell \u001b[1;32mIn[63], line 14\u001b[0m\n\u001b[0;32m     11\u001b[0m     \u001b[38;5;28;01mreturn\u001b[39;00m (a \u001b[38;5;241m+\u001b[39m b) \u001b[38;5;241m/\u001b[39m \u001b[38;5;241m2\u001b[39m\n\u001b[0;32m     13\u001b[0m \u001b[38;5;66;03m# Encontrando a raiz no intervalo correto\u001b[39;00m\n\u001b[1;32m---> 14\u001b[0m raiz \u001b[38;5;241m=\u001b[39m bisection(f, \u001b[38;5;241m2\u001b[39m, \u001b[38;5;241m3\u001b[39m)  \u001b[38;5;66;03m# Novo intervalo identificado\u001b[39;00m\n\u001b[0;32m     15\u001b[0m \u001b[38;5;28mprint\u001b[39m(\u001b[38;5;124mf\u001b[39m\u001b[38;5;124m\"\u001b[39m\u001b[38;5;124mA raiz encontrada é: \u001b[39m\u001b[38;5;132;01m{\u001b[39;00mraiz\u001b[38;5;132;01m:\u001b[39;00m\u001b[38;5;124m.10f\u001b[39m\u001b[38;5;132;01m}\u001b[39;00m\u001b[38;5;124m\"\u001b[39m)\n",
      "Cell \u001b[1;32mIn[63], line 4\u001b[0m, in \u001b[0;36mbisection\u001b[1;34m(f, a, b, tol)\u001b[0m\n\u001b[0;32m      2\u001b[0m \u001b[38;5;28;01mdef\u001b[39;00m \u001b[38;5;21mbisection\u001b[39m(f, a, b, tol\u001b[38;5;241m=\u001b[39m\u001b[38;5;241m1e-10\u001b[39m):\n\u001b[0;32m      3\u001b[0m     \u001b[38;5;28;01mif\u001b[39;00m f(a) \u001b[38;5;241m*\u001b[39m f(b) \u001b[38;5;241m>\u001b[39m\u001b[38;5;241m=\u001b[39m \u001b[38;5;241m0\u001b[39m:\n\u001b[1;32m----> 4\u001b[0m         \u001b[38;5;28;01mraise\u001b[39;00m \u001b[38;5;167;01mValueError\u001b[39;00m(\u001b[38;5;124m\"\u001b[39m\u001b[38;5;124mf(a) e f(b) devem ter sinais opostos.\u001b[39m\u001b[38;5;124m\"\u001b[39m)\n\u001b[0;32m      5\u001b[0m     \u001b[38;5;28;01mwhile\u001b[39;00m \u001b[38;5;28mabs\u001b[39m(b \u001b[38;5;241m-\u001b[39m a) \u001b[38;5;241m>\u001b[39m tol:\n\u001b[0;32m      6\u001b[0m         c \u001b[38;5;241m=\u001b[39m (a \u001b[38;5;241m+\u001b[39m b) \u001b[38;5;241m/\u001b[39m \u001b[38;5;241m2\u001b[39m\n",
      "\u001b[1;31mValueError\u001b[0m: f(a) e f(b) devem ter sinais opostos."
     ]
    }
   ],
   "source": [
    "def bisection(f, a, b, tol=1e-10):\n",
    "    if f(a) * f(b) >= 0:\n",
    "        raise ValueError(\"f(a) e f(b) devem ter sinais opostos.\")\n",
    "    while abs(b - a) > tol:\n",
    "        c = (a + b) / 2\n",
    "        if f(a) * f(c) < 0:\n",
    "            b = c\n",
    "        else:\n",
    "            a = c\n",
    "    return (a + b) / 2\n",
    "\n",
    "raiz = bisection(f, 2, 3)  \n",
    "print(f\"A raiz encontrada é: {raiz:.10f}\")"
   ]
  },
  {
   "cell_type": "markdown",
   "metadata": {},
   "source": [
    "**d.** Calcule a constante de Wien,\n",
    "\n",
    "$$\n",
    "b_\\mathrm{W} = \\frac{hc}{x k_\\mathrm{B}}.\n",
    "$$\n",
    "\n",
    "Use $k_\\mathrm{B} = 1{,}380649 \\times 10^{-23}\\,\\mathrm{J}\\,\\mathrm{K}^{-1}$, $h = 6{,}62607015 \\times 10^{-34}\\,\\mathrm{J}\\,\\mathrm{s}$ e $c = 299792458\\,\\mathrm{m}\\,\\mathrm{s}^{-1}$."
   ]
  },
  {
   "cell_type": "code",
   "execution_count": 47,
   "metadata": {},
   "outputs": [
    {
     "name": "stdout",
     "output_type": "stream",
     "text": [
      "A constante de Wien é: 1.44e-02 m·K\n"
     ]
    }
   ],
   "source": [
    "h = 6.62607015e-34  # Constante de Planck [J·s]\n",
    "c = 2.99792458e8    # Velocidade da luz [m/s]\n",
    "k_b = 1.380649e-23  # Constante de Boltzmann [J/K]\n",
    "\n",
    "bw = h * c / k_b\n",
    "print(f\"A constante de Wien é: {bw:.2e} m·K\")"
   ]
  },
  {
   "cell_type": "markdown",
   "metadata": {},
   "source": [
    "**e.** Sabendo o comprimento de onda em que um objeto emite mais intensamente, podemos estimar a sua temperatura. Para o Sol, $\\lambda_\\mathrm{M} = 502\\,\\mathrm{nm}$. Calcule a sua temperatura usando a lei do deslocamento de Wien. Compare com a temperatura efetiva do Sol, determinada através da lei de Stefan–Boltzmann (fluxo $F =\\sigma T_\\text{eff}^4$), que é $T_\\text{eff} = 5777\\,\\mathrm{K}$."
   ]
  },
  {
   "cell_type": "code",
   "execution_count": 49,
   "metadata": {},
   "outputs": [
    {
     "name": "stdout",
     "output_type": "stream",
     "text": [
      "A temperatura estimada do Sol é: 28660.89 K\n",
      "Diferença para a temperatura efetiva: 22883.89 K\n"
     ]
    }
   ],
   "source": [
    "lambda_m = 502e-9 \n",
    "\n",
    "T_sol = bw / lambda_m\n",
    "print(f\"A temperatura estimada do Sol é: {T_sol:.2f} K\")\n",
    "\n",
    "T_efetiva = 5777  \n",
    "print(f\"Diferença para a temperatura efetiva: {abs(T_sol - T_efetiva):.2f} K\")"
   ]
  }
 ],
 "metadata": {
  "kernelspec": {
   "display_name": "Python 3 (ipykernel)",
   "language": "python",
   "name": "python3"
  },
  "language_info": {
   "codemirror_mode": {
    "name": "ipython",
    "version": 3
   },
   "file_extension": ".py",
   "mimetype": "text/x-python",
   "name": "python",
   "nbconvert_exporter": "python",
   "pygments_lexer": "ipython3",
   "version": "3.12.4"
  }
 },
 "nbformat": 4,
 "nbformat_minor": 4
}
