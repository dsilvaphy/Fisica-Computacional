{
 "cells": [
  {
   "cell_type": "markdown",
   "metadata": {},
   "source": [
    "# Equações diferenciais ordinárias"
   ]
  },
  {
   "cell_type": "markdown",
   "metadata": {},
   "source": [
    "## Método de Euler–Cromer\n",
    "\n",
    "Pode-se mostrar que, ao aplicar o método de Euler a um sistema sujeito a forças conservativas, a energia não se conserva. O problema é que o método de Euler sempre faz uma extrapolação linear do novo estado com base apenas no estado atual. Se as derivadas forem muito grandes, esta extrapolação não é uma aproximação muito boa."
   ]
  },
  {
   "cell_type": "markdown",
   "metadata": {},
   "source": [
    "Uma pequena modificação no método de Euler é suficiente para que a sua solução seja conservativa:\n",
    "\n",
    "\\begin{align}\n",
    "v_{j+1} &= v_j + h f_v(x_j, v_j, t_j) \\\\\n",
    "x_{j+1}&= x_j + h v_{j+1}.\n",
    "\\end{align}"
   ]
  },
  {
   "cell_type": "markdown",
   "metadata": {},
   "source": [
    "No termo em $h$ na posição no método de Euler, $v_j$ se torna $v_{j+1}$.  Esta modificação faz com que o método de Euler consiga \"ver no futuro\", o novo estado depende tanto do estado anterior quanto dele mesmo. Este método modificado é chamado de [método de Euler–Cromer](https://sci-hub.se/10.1119/1.12478) (Abby Aspel?). "
   ]
  },
  {
   "cell_type": "markdown",
   "metadata": {},
   "source": [
    "### Exercício 1\n",
    "\n",
    "**a.** Resolva o oscilador harmônico usando o método de Euler tradicional. Considere $k=1$, $m=1$, e condições iniciais $x=1$ e $v=0$ quando $t=0$. Use um passo $h=0.15$, e resolva até $t=10$."
   ]
  },
  {
   "cell_type": "code",
   "execution_count": null,
   "metadata": {},
   "outputs": [],
   "source": []
  },
  {
   "cell_type": "markdown",
   "metadata": {},
   "source": [
    "**b.** Resolva novamente o problema usando o método de Euler–Cromer. Guarde o resultado em um array separado."
   ]
  },
  {
   "cell_type": "code",
   "execution_count": null,
   "metadata": {},
   "outputs": [],
   "source": []
  },
  {
   "cell_type": "markdown",
   "metadata": {},
   "source": [
    "**c.** Faça o gráfico das duas soluções, junto com a solução analítica."
   ]
  },
  {
   "cell_type": "code",
   "execution_count": null,
   "metadata": {},
   "outputs": [],
   "source": []
  },
  {
   "cell_type": "markdown",
   "metadata": {},
   "source": [
    "A solução com o método de Euler–Cromer é muito melhor, mas ainda não é perfeita. Diminuindo o intervalo $h$, você pode melhorar a solução. Mas, como conferir se a energia se conserva?\n",
    "\n",
    "**d.** Faça o gráfico do *espaço de fase* da solução, isto é, um gráfico da velocidade em função da posição. Novamente, desenhe a curva para as duas soluções e para a solução analítica."
   ]
  },
  {
   "cell_type": "code",
   "execution_count": null,
   "metadata": {},
   "outputs": [],
   "source": []
  },
  {
   "cell_type": "markdown",
   "metadata": {},
   "source": [
    "Se o programa funcionou corretamente, a solução com o método de Euler tem amplitudes e velocidades cada vez maiores. Já o método de Euler–Cromer nos dá uma solução que fica confinada à vizinhança da solução real do problema. Métodos que conservam a energiam como o de Euler–Cromer, são chamados de *métodos simpléticos*."
   ]
  },
  {
   "cell_type": "markdown",
   "metadata": {},
   "source": [
    "### Exercício 2"
   ]
  },
  {
   "cell_type": "markdown",
   "metadata": {},
   "source": [
    "A oscilação de um pêndulo é aproximadamente igual a um oscilador harmônico simples para ângulos pequenos. Vamos ver o que acontece quando não fazemos esta aproximação."
   ]
  },
  {
   "cell_type": "markdown",
   "metadata": {},
   "source": [
    "Suponha que o pêndulo tenha uma haste rígida de comprimento $L = 1\\,\\mathrm{m}$, e uma massa $m = 1\\,\\mathrm{kg}$ presa à extremidade livre. Neste caso o movimento é descrito pela dinâmica de corpos rígidos, dada pelas equações\n",
    "\n",
    "\\begin{cases}\n",
    "&I \\dfrac{\\mathrm{d}\\omega}{\\mathrm{d}t} = \\tau \\\\\n",
    "&\\dfrac{\\mathrm{d}\\theta}{\\mathrm{d}t} = \\omega,\n",
    "\\end{cases}"
   ]
  },
  {
   "cell_type": "markdown",
   "metadata": {},
   "source": [
    "onde $\\tau$ é o torque, $I$ é o momento de inércia, $\\omega$ é a velocidade angular, e $\\theta$ é o ângulo que o pêndulo faz com a vertical. No nosso caso, $I = mL^2$, e o torque é causado pela força da gravidade, $\\tau = -mgL \\sin \\theta$. Assim,"
   ]
  },
  {
   "cell_type": "markdown",
   "metadata": {},
   "source": [
    "\\begin{align}\n",
    "    mL^2 \\frac{\\mathrm{d}\\omega}{\\mathrm{d}t} &= -mgL \\sin \\theta \\\\\n",
    "    \\frac{\\mathrm{d}\\omega}{\\mathrm{d}t} &= -\\frac{mgL}{mL^2} \\sin \\theta\n",
    "\\end{align}\n",
    "\n",
    "\\begin{cases}\n",
    "    &\\dfrac{\\mathrm{d}\\omega}{\\mathrm{d}t} = -\\dfrac{g}{L} \\sin \\theta \\\\\n",
    "    &\\dfrac{\\mathrm{d}\\theta}{\\mathrm{d}t} = \\omega.\n",
    "\\end{cases}"
   ]
  },
  {
   "cell_type": "markdown",
   "metadata": {},
   "source": [
    "Este sistema de EDOs acopladas tem solução analítica em termos de funções elípticas de Jacobi, veja [Beléndez *et al* (2007)](http://www.sbfisica.org.br/rbef/pdf/070707.pdf). Porém, podemos resolver facilmente este sistema com o que já aprendemos até aqui."
   ]
  },
  {
   "cell_type": "markdown",
   "metadata": {},
   "source": [
    "Calcule a solução numérica da oscilação do pêndulo para uma posição inicial $A = 10^\\circ, 45^\\circ, 90^\\circ$ e $179^\\circ$ (lembre que devemos fazer os cálculos em radianos), partindo do repouso ($\\omega = 0$), para um intervalo de tempo de 10 segundos."
   ]
  },
  {
   "cell_type": "markdown",
   "metadata": {},
   "source": [
    "Na mesma figura, desenhe também o gráfico da solução analítica aproximada para ângulos pequenos ($\\sin \\theta \\approx \\theta$), e compare com os seus resultados."
   ]
  },
  {
   "cell_type": "code",
   "execution_count": null,
   "metadata": {},
   "outputs": [],
   "source": []
  },
  {
   "cell_type": "markdown",
   "metadata": {},
   "source": [
    "### Exercício 3\n",
    "\n",
    "A trajetória de um corpo em queda livre é facilmente calculada analiticamente na ausência de arraste do ar. Levando em conta o arraste, por outro lado, deixa as equações de movimento intratáveis, e precisamos resolver o problema numericamente."
   ]
  },
  {
   "cell_type": "markdown",
   "metadata": {},
   "source": [
    "Considere uma esfera lisa de massa $0{,}5\\,\\text{kg}$, com um raio de $5\\,\\text{cm}$, solta do repouso a uma altura de $1\\,\\text{km}$. Além da força gravitacional, a esfera está sujeita a uma força de arraste $D$ que se opõe ao movimento, tal que\n",
    "\n",
    "\\begin{align}\n",
    "F = \\left\\{ \\\n",
    "\\begin{array}{ll}\n",
    "-m g - D(v) \\qquad &\\text{se}\\ v > 0, \\\\\n",
    "-m g + D(v) \\qquad &\\text{se}\\ v < 0,\n",
    "\\end{array}\n",
    "\\right .\n",
    "\\end{align}"
   ]
  },
  {
   "cell_type": "markdown",
   "metadata": {},
   "source": [
    "com velocidades positivas para cima. O arraste pode ser expresso através de\n",
    "\n",
    "\\begin{align}\n",
    "D(v) = \\frac{1}{2} \\rho v^2 C_\\text{D} A,\n",
    "\\end{align}"
   ]
  },
  {
   "cell_type": "markdown",
   "metadata": {},
   "source": [
    "onde $\\rho$ é a densidade do ar ($1{,}225\\,\\text{kg}\\,\\text{m}^{-3}$), $A$ é a área projetada da esfera, e $C_\\text{D}$ é o coeficiente de arraste, que para uma esfera lisa vale $0{,}47$."
   ]
  },
  {
   "cell_type": "markdown",
   "metadata": {},
   "source": [
    "As equações do movimento são dadas pelas dinâmica newtoniana:\n",
    "\n",
    "\\begin{align}\n",
    "\\frac{\\text{d}v}{\\text{d}t} &= \\left\\{ \\\n",
    "\\begin{array}{ll}\n",
    "-g - \\frac{D(v)}{m} \\qquad &\\text{se}\\ v > 0, \\\\\n",
    "-g + \\frac{D(v)}{m} \\qquad &\\text{se}\\ v < 0,\n",
    "\\end{array}\n",
    "\\right . \\\\\n",
    "\\frac{\\text{d}y}{\\text{d}t} &= v.\n",
    "\\end{align}\n",
    "\n",
    "**a.** Calcule numericamente a solução até $25\\,\\text{s}$ depois do lançamento."
   ]
  },
  {
   "cell_type": "code",
   "execution_count": null,
   "metadata": {},
   "outputs": [],
   "source": []
  },
  {
   "cell_type": "markdown",
   "metadata": {},
   "source": [
    "**b.** Faça dois gráficos.\n",
    "\n",
    "* No primeiro, desenhe a altura calculada em função do tempo, e coloque no mesmo gráfico a solução analítica no caso sem arraste. Limite o gráfico a altitudes positivas usando `ax.set_ylim(min, max)`.\n",
    "* No segundo, desenhe a velocidade calculada em função do tempo, e desenhe também uma linha assintótica horizontal com o valor da *velocidade terminal*. Esta velocidade pode ser facilmente calculada fazendo $F = 0$ (o arraste e a gravidade se equilibram), e isolando $v$."
   ]
  },
  {
   "cell_type": "code",
   "execution_count": null,
   "metadata": {},
   "outputs": [],
   "source": []
  }
 ],
 "metadata": {
  "kernelspec": {
   "display_name": "Python 3 (ipykernel)",
   "language": "python",
   "name": "python3"
  },
  "language_info": {
   "codemirror_mode": {
    "name": "ipython",
    "version": 3
   },
   "file_extension": ".py",
   "mimetype": "text/x-python",
   "name": "python",
   "nbconvert_exporter": "python",
   "pygments_lexer": "ipython3",
   "version": "3.9.12"
  }
 },
 "nbformat": 4,
 "nbformat_minor": 4
}
