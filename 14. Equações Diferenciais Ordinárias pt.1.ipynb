{
 "cells": [
  {
   "cell_type": "markdown",
   "metadata": {},
   "source": [
    "# Equações diferenciais ordinárias"
   ]
  },
  {
   "cell_type": "markdown",
   "metadata": {},
   "source": [
    "Equações diferenciais que têm somente uma variável independente são chamadas de equações diferenciais ordinárias (EDOs). Todas as outras variáveis são funções desta variável independente. As EDOs mais simples são as de primeira ordem, que envolvem apenas derivadas primeiras, por exemplo\n",
    "\n",
    "$$\n",
    "\\frac{\\mathrm{d}x}{\\mathrm{d}t} = \\frac{2x}{t}.\n",
    "$$"
   ]
  },
  {
   "cell_type": "markdown",
   "metadata": {},
   "source": [
    "Esta equação em particular pode ser resolvida analiticamente pelo método da separação de variáveis, resultando numa classe de funções $x(t)$, chamada solução geral. Uma solução particular pode ser escolhida quando forçamos condições iniciais ou de contorno. Por exemplo, uma partícula livre com velocidade $v$ em uma dimensão tem a sua posição descrita pela equação\n",
    "\n",
    "$$\n",
    "\\frac{\\mathrm{d}x}{\\mathrm{d}t} = v.\n",
    "$$"
   ]
  },
  {
   "cell_type": "markdown",
   "metadata": {},
   "source": [
    "A sua solução geral é\n",
    "\n",
    "$$\n",
    "x(t) = x_0 + v (t - t_0),\n",
    "$$\n",
    "\n",
    "onde $x_0$ é a posição no instante $t_0$. Se conhecemos a posição da partícula em $t_0 = 0$, temos uma solução particular, dadas as condições iniciais. Trataremos aqui apenas de problemas de condições iniciais."
   ]
  },
  {
   "cell_type": "markdown",
   "metadata": {},
   "source": [
    "Nem toda EDO pode ser resolvida analiticamente. EDOs como\n",
    "\n",
    "$$\n",
    "\\frac{\\mathrm{d}x}{\\mathrm{d}t} = \\frac{2x}{t} + \\frac{3x^2}{t^3}\n",
    "$$\n",
    "\n",
    "não são separáveis, e além do mais são não-lineares, pois incluem variáveis com potências diferentes de 1. EDOs não-lineares raramente têm solução analítica, mas podem ser resolvidas numericamente. Veremos alguns métodos para resolver problemas com condições iniciais."
   ]
  },
  {
   "cell_type": "markdown",
   "metadata": {},
   "source": [
    "## Método de Euler\n",
    "\n",
    "Este é o método mais simples de todos. É também o mais impreciso, mas tem o seu valor didático. Considere a EDO\n",
    "\n",
    "$$\n",
    "\\frac{\\mathrm{d}x}{\\mathrm{d}t} = f(x, t).\n",
    "$$"
   ]
  },
  {
   "cell_type": "markdown",
   "metadata": {},
   "source": [
    "Queremos encontrar $x(t)$, e para isso precisamos de condições iniciais. Suponha que conhecemos $x$ em um determinado $t$. Sabendo este valor de $x(t)$, podemos escrever o valor de $x$ depois de um intervalo pequeno $h$ usando uma expansão de Taylor, isto é,\n",
    "\n",
    "$$\n",
    "x(t+h) = x(t) + h \\frac{\\mathrm{d}x}{\\mathrm{d}t} + \\frac{1}{2} h^2\\frac{\\mathrm{d}^2x}{\\mathrm{d}t^2} + \\ldots\n",
    "$$"
   ]
  },
  {
   "cell_type": "markdown",
   "metadata": {},
   "source": [
    "Como a derivada de $x(t)$ é dada pela EDO, temos que\n",
    "\n",
    "\\begin{align}\n",
    "x(t+h) &= x(t) + h f(x,t) + \\frac{1}{2} h^2\\frac{\\mathrm{d}}{\\mathrm{d}t}f(x,t) + \\ldots \\\\\n",
    "&= x(t) + h f(x,t) + O(h^2),\n",
    "\\end{align}"
   ]
  },
  {
   "cell_type": "markdown",
   "metadata": {},
   "source": [
    "onde $O(h^2)$ inclui os termos proporcionais a $h^2$ e potências mais altas. Se $h$ é muito pequeno, podemos desprezar os termos em $h^2$ e ficar com\n",
    "\n",
    "$$\n",
    "x(t+h) \\cong x(t) + h f(x,t).\n",
    "$$"
   ]
  },
  {
   "cell_type": "markdown",
   "metadata": {},
   "source": [
    "Esta equação resume o método de Euler. Se sabemos o valor de $x$ em um tempo $t$, é possível calcular o valor de $x$ para um intervalo $h$ imediatamente depois. Podemos então repetir o processo e calcular $x$ depois de outro intervalo $h$, e assim sucessivamente. Não conseguimos $x(t)$ para todos os valores de $t$, apenas valores igualmente espaçados por $h$ (ou outros valores discretos, se $h$ não for fixo). A solução numérica pode ser uma aproximação tão boa quanto desejarmos, tomando um $h$ suficientemente pequeno."
   ]
  },
  {
   "cell_type": "markdown",
   "metadata": {},
   "source": [
    "### Discretizando a EDO\n",
    "\n",
    "Considere como exemplo a EDO\n",
    "\n",
    "$$\n",
    "\\frac{\\mathrm{d}x}{\\mathrm{d}t} = - x^3 + \\sin t,\n",
    "$$\n",
    "\n",
    "com a condição inicial de que $x=0$ em $t=0$. Vamos calcular a solução no intervalo de $0 \\leq t \\leq 10$, em 1000 passos. Neste caso, primeiro precisamos determinar o valor de $h$."
   ]
  },
  {
   "cell_type": "code",
   "execution_count": null,
   "metadata": {
    "tags": []
   },
   "outputs": [],
   "source": [
    "import numpy as np\n",
    "import matplotlib.pyplot as plt\n",
    "plt.style.use('ggplot')\n",
    "plt.rcParams['font.family'] = 'serif'\n",
    "plt.rcParams['mathtext.fontset'] = 'stix'"
   ]
  },
  {
   "cell_type": "code",
   "execution_count": null,
   "metadata": {},
   "outputs": [],
   "source": [
    "# Condições iniciais\n",
    "x0 = 0.0\n",
    "t0 = 0.0\n",
    "tf = 10.0\n",
    "\n",
    "# Passo de tempo\n",
    "N = 1000\n",
    "h = (tf - t0) / N\n",
    "print(f'h = {h}')"
   ]
  },
  {
   "cell_type": "markdown",
   "metadata": {},
   "source": [
    "Vamos então aplicar o método de Euler. Precisamos de um local para armazenar os 1000 valores de $t$ e os respectivos $x(t)$. As condições iniciais são definidas nos primeiros elementos de `x` e `t`."
   ]
  },
  {
   "cell_type": "code",
   "execution_count": null,
   "metadata": {},
   "outputs": [],
   "source": [
    "t = np.zeros(N)\n",
    "t[0] = t0\n",
    "x = np.zeros(N)\n",
    "x[0] = x0"
   ]
  },
  {
   "cell_type": "markdown",
   "metadata": {},
   "source": [
    "Precisamos discretizar a EDO. Se iniciamos em $t=t_0$, no passo seguinte temos $t_1 = t_0 + h$, depois $t_2 = t_1 + h = t_0 + 2 h$, e assim sucessivamente, até que depois de $j$ passos temos\n",
    "\n",
    "\\begin{align}\n",
    "t_j &= t_0 + j h, \\quad j=0,1,2,\\ldots\n",
    "\\end{align}"
   ]
  },
  {
   "cell_type": "markdown",
   "metadata": {},
   "source": [
    "Vamos também definir\n",
    "\n",
    "\\begin{align}\n",
    "x_j &= x(t_j) \\\\\n",
    "f_j &= f(x_j, t_j).\n",
    "\\end{align}"
   ]
  },
  {
   "cell_type": "markdown",
   "metadata": {},
   "source": [
    "Veja que\n",
    "\n",
    "\\begin{align}\n",
    "t_j + h &= t_0 + j h + h \\\\\n",
    "&= t_0 + (j+1) h \\\\\n",
    "&= t_{j+1},\n",
    "\\end{align}\n",
    "\n",
    "logo, escrevendo o método de Euler em um instante $t_j$,\n",
    "\n",
    "\\begin{align}\n",
    "x(t_j + h) &= x(t_j) + h f\\left(x(t_j), t_j\\right) \\\\\n",
    "\\implies x_{j+1} &= x_j + h f_j.\n",
    "\\end{align}"
   ]
  },
  {
   "cell_type": "markdown",
   "metadata": {},
   "source": [
    "A cada passo, precisamos calcular as seguintes quantidades:\n",
    "\n",
    "\\begin{align}\n",
    "t_j &= t_0 + j h \\\\\n",
    "f_j &= f(x_j, t_j) \\\\\n",
    "x_{j+1} &= x_j + h f_j.\n",
    "\\end{align}"
   ]
  },
  {
   "cell_type": "markdown",
   "metadata": {},
   "source": [
    "Veja que o valor seguinte $x_{j+1}$ depende apenas dos valores anteriores $x_j$ e $t_j$. Chamamos métodos deste tipo de *métodos diretos*. Repare também que os valores de $t_j$ podem ser calculados previamente."
   ]
  },
  {
   "cell_type": "markdown",
   "metadata": {},
   "source": [
    "#### Exercício 1\n",
    "\n",
    "**a.** Defina $f(x, t)$ como uma função python. Em seguida, aplique o método de Euler para encontrar os valores de $x_j$, usando os arrays `x` e `t`, já definidos acima com a condição inicial."
   ]
  },
  {
   "cell_type": "code",
   "execution_count": null,
   "metadata": {},
   "outputs": [],
   "source": []
  },
  {
   "cell_type": "markdown",
   "metadata": {},
   "source": [
    "**b.** Faça o o gráfico da solução $x(t)$."
   ]
  },
  {
   "cell_type": "code",
   "execution_count": null,
   "metadata": {},
   "outputs": [],
   "source": []
  },
  {
   "cell_type": "markdown",
   "metadata": {},
   "source": [
    "### Dinâmica newtoniana\n",
    "\n",
    "O método de Euler pode ser usado para fazer simulações de dinâmica. Considere uma partícula de massa $m$ sujeita a uma força $F(x, v, t)$. O movimento da partícula é dado pelas equações\n",
    "\n",
    "\\begin{cases}\n",
    "&\\dfrac{\\mathrm{d}v}{\\mathrm{d}t} = f_v(x, v, t) = \\dfrac{F(x, v, t)}{m}, \\\\\n",
    "&\\dfrac{\\mathrm{d}x}{\\mathrm{d}t} = f_x(x, v, t) = v.\n",
    "\\end{cases}"
   ]
  },
  {
   "cell_type": "markdown",
   "metadata": {},
   "source": [
    "Estas são duas EDOs acopladas. Neste caso, $v$ e $x$ são funções de $t$, e devem ser resolvidas simultaneamente. A função $f_v(x, v, t)$ é porporcional à força, que pode realmente depender da posição, da velocidade e do tempo. A função $f_x(x, v, t)$, no entanto, é simplesmente a velocidade. Discretizando,\n",
    "\n",
    "\\begin{align}\n",
    "v_{j+1} &= v_j + h f_v(x_j, v_j, t_j) \\\\\n",
    "x_{j+1} &= x_j + h v_j.\n",
    "\\end{align}"
   ]
  },
  {
   "cell_type": "markdown",
   "metadata": {},
   "source": [
    "Vejamos primeiro o caso de uma partícula livre, sem a ação de forças. Neste caso, $F(x, v, t) = 0$, logo,\n",
    "\n",
    "\\begin{align}\n",
    "\\frac{\\mathrm{d}v}{\\mathrm{d}t} &= f_v(x, v, t) = \\frac{F(x, v, t)}{m} = 0, \\\\\n",
    "\\implies v &= v_0 (\\text{constante}).\n",
    "\\end{align}"
   ]
  },
  {
   "cell_type": "markdown",
   "metadata": {},
   "source": [
    "Na forma discretizada,\n",
    "\n",
    "\\begin{align}\n",
    "v_{j+1} &= v_j + h f_v(x_j, v_j, t_j) \\\\\n",
    "v_{j+1} &= v_j + h \\times 0 \\\\\n",
    "v_{j+1} &= v_j.\n",
    "\\end{align}\n",
    "\n",
    "Como esperado, o a velocidade não muda de um passo pro outro."
   ]
  },
  {
   "cell_type": "markdown",
   "metadata": {},
   "source": [
    "Já conhecemos a solução de $v$, só falta resolver $x(t)$. Vimos acima a solução analítica, $x$ é linear. Vamos ver como esta EDO se comporta com o método de Euler. Discretizando,\n",
    "\n",
    "\\begin{align}\n",
    "x_{j+1} &= x_j + h v_j \\\\\n",
    "x_{j+1} &= x_j + h v_0. \\\\\n",
    "\\end{align}\n",
    "\n",
    "De fato, o incremento é sempre o mesmo, proporcional ao passo de tempo. Logo $x_j$ cresce linearmente com $t_j$."
   ]
  },
  {
   "cell_type": "markdown",
   "metadata": {},
   "source": [
    "#### Exercício 2: oscilador harmônico\n",
    "\n",
    "Agora que sabemos aplicar o método de Euler, vamos para um sistema um pouco mais complexo: um oscilador harmônico. Seja uma massa $m$ ligada a uma mola com constante elática $k$, tal que $F = -kx$. As equações de movimento ficam\n",
    "\n",
    "\\begin{cases}\n",
    "&\\dfrac{\\mathrm{d}v}{\\mathrm{d}t} = - \\dfrac{k}{m} x\\\\\n",
    "&\\dfrac{\\mathrm{d}x}{\\mathrm{d}t} = v.\n",
    "\\end{cases}"
   ]
  },
  {
   "cell_type": "markdown",
   "metadata": {},
   "source": [
    "**a.** Resolva o problema para $k=1$, $m=1$, com condições iniciais $x_0=1$, $v_0=0$ em $t_0=0$. Calcule $N = 100$ passos até $t = 10$."
   ]
  },
  {
   "cell_type": "code",
   "execution_count": null,
   "metadata": {},
   "outputs": [],
   "source": []
  },
  {
   "cell_type": "markdown",
   "metadata": {},
   "source": [
    "**b.** A solução analítica deste oscilador, com estas condições iniciais, é\n",
    "\n",
    "\\begin{align}\n",
    "x(t) = x_0 \\cos \\omega t, \\\\\n",
    "\\omega = \\frac{k}{m} .\n",
    "\\end{align}\n",
    "\n",
    "Calcule a solução analítica para os pontos $t_j$ usados na solução numérica."
   ]
  },
  {
   "cell_type": "code",
   "execution_count": null,
   "metadata": {},
   "outputs": [],
   "source": []
  },
  {
   "cell_type": "markdown",
   "metadata": {},
   "source": [
    "**c.** Faça o gráfico da solução numérica e da solução analítica."
   ]
  },
  {
   "cell_type": "code",
   "execution_count": null,
   "metadata": {},
   "outputs": [],
   "source": []
  },
  {
   "cell_type": "markdown",
   "metadata": {},
   "source": [
    "Se tudo correu bem, e você usou os valores sugeridos, poderá ver que o método de Euler funciona muito bem no começo, até $t \\approx 2$. Porém, conforme os passos aumentam, a diferença entre o resultado numérico e o analítico começa a ficar maior. Modifique `N` e `tf` no seu código, e veja como a diferença crescre cada vez mais com o intervalo total de tempo, e diminui com `N`."
   ]
  },
  {
   "cell_type": "markdown",
   "metadata": {},
   "source": [
    "#### Exercício 3\n",
    "\n",
    "Considere um projétil em queda livre, que parte do solo com velocidade $v_0 = 25\\,\\mathrm{m}\\,\\mathrm{s}^{-1}$ para cima, num movimento apenas na linha vertical."
   ]
  },
  {
   "cell_type": "markdown",
   "metadata": {},
   "source": [
    "**a.** Desenhe o problema, e defina um sistema de coordenadas. Escreva as equações de movimento em forma de EDOs."
   ]
  },
  {
   "cell_type": "markdown",
   "metadata": {},
   "source": [
    "*Resposta:* $y=0$ no nível do chão, positivo para cima.\n",
    "\n",
    "\\begin{align}\n",
    "F &= m a \\\\\n",
    "-m g &= m \\frac{\\mathrm{d}v}{\\mathrm{dt}} \\\\\n",
    "\\end{align}\n",
    "\\begin{cases}\n",
    "\\dfrac{\\mathrm{d}v}{\\mathrm{d}t} &= -g \\\\\n",
    "\\dfrac{\\mathrm{d}y}{\\mathrm{d}t} &= v.\n",
    "\\end{cases}"
   ]
  },
  {
   "cell_type": "markdown",
   "metadata": {},
   "source": [
    "**b.** Calcule numericamente a trajetória do projétil em $0 < t < 6\\,\\mathrm{s}$. Use o intervalo de tempo $h = 0.1$."
   ]
  },
  {
   "cell_type": "code",
   "execution_count": null,
   "metadata": {},
   "outputs": [],
   "source": []
  },
  {
   "cell_type": "markdown",
   "metadata": {},
   "source": [
    "**c.** Faça o gráfico do movimento e compare com a trajetória analítica. Depois, teste valores diferentes de $h$ até obter resultados satisfatórios."
   ]
  },
  {
   "cell_type": "code",
   "execution_count": null,
   "metadata": {},
   "outputs": [],
   "source": []
  }
 ],
 "metadata": {
  "kernelspec": {
   "display_name": "Python 3 (ipykernel)",
   "language": "python",
   "name": "python3"
  },
  "language_info": {
   "codemirror_mode": {
    "name": "ipython",
    "version": 3
   },
   "file_extension": ".py",
   "mimetype": "text/x-python",
   "name": "python",
   "nbconvert_exporter": "python",
   "pygments_lexer": "ipython3",
   "version": "3.11.6"
  }
 },
 "nbformat": 4,
 "nbformat_minor": 4
}
