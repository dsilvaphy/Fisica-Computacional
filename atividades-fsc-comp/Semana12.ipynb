{
 "cells": [
  {
   "cell_type": "markdown",
   "metadata": {},
   "source": [
    "# Semana 12\n",
    "\n",
    "## FSC5705 - Física Computacional\n",
    "## 24/06/2024\n",
    "\n",
    "### Atenção\n",
    "- **Não esqueça de reiniciar o kernel e rodar todas as células para testar o notebook antes de enviar.**"
   ]
  },
  {
   "cell_type": "markdown",
   "metadata": {},
   "source": [
    "### Universo em expansão\n",
    "\n",
    "Vamos agora descobrir que o universo está em expansão, de acordo com a lei de Hubble–Lemaître. No começo do século 20, com o desenvolvimento da Relatividade Geral, Alexander Friedmann, e logo depois Georges Lemaître, chegaram de forma independente em soluções nas quais o universo estava em expansão. Edwin Hubble usou estrelas variáveis do tipo cefeidas para calcular as distâncias de algumas galáxias próximas (determinar distâncias astronômicas é um problema gigante, veja a [Escada cósmica de distâncias](https://en.wikipedia.org/wiki/Cosmic_distance_ladder)). Juntando essas distâncias com medidas de velocidade provenientes do [*redshift*](https://en.wikipedia.org/wiki/Redshift#Measurement,_characterization,_and_interpretation) (desvio do espectro para o vermelho), ele obteve uma evidência observacional de que de fato o universo se expandia."
   ]
  },
  {
   "cell_type": "markdown",
   "metadata": {},
   "source": [
    "Vamos usar alguns dados mais modernos de distâncias e redshifts de [Freedman et al (2001)](https://ui.adsabs.harvard.edu/abs/2001ApJ...553...47F/abstract) para tentar repetir o feito de Hubble. Queremos determinar a taxa em que o universo se expande."
   ]
  },
  {
   "cell_type": "markdown",
   "metadata": {},
   "source": [
    "Considere a tabela abaixo. Temos a velocidade $v$ em que as galáxias se afastam de nós, em $\\mathrm{km}\\,\\mathrm{s}^{-1}$, obtida através do redshift de linhas espectrais. Temos também a distância $d$, em [megaparsecs](https://pt.wikipedia.org/wiki/Parsec) ($\\mathrm{Mpc}$), obtidas através de estrelas variáveis do tipo cefeidas."
   ]
  },
  {
   "cell_type": "code",
   "execution_count": 1,
   "metadata": {},
   "outputs": [],
   "source": [
    "import numpy as np\n",
    "galaxias = np.array([('IC 4182',321, 4.53),\n",
    "                     ('NGC 0300', 144, 2.02),\n",
    "                     ('NGC 0925', 553, 9.12),\n",
    "                     ('NGC 1326A', 1836, 16.14),\n",
    "                     ('NGC 1365', 1636, 17.22),\n",
    "                     ('NGC 1425', 1512, 20.89),\n",
    "                     ('NGC 2090', 931, 11.43),\n",
    "                     ('NGC 2403', 131, 3.13),\n",
    "                     ('NGC 2541', 559, 11.22),\n",
    "                     ('NGC 3031', -34, 3.55),\n",
    "                     ('NGC 3198', 662, 13.68),\n",
    "                     ('NGC 3351', 778, 13.43),\n",
    "                     ('NGC 3368', 897, 9.33),\n",
    "                     ('NGC 3621', 805, 9.86),\n",
    "                     ('NGC 4321', 1571, 6.55),\n",
    "                     ('NGC 4414', 716, 16.6),\n",
    "                     ('NGC 4496A', 1730, 14.52),\n",
    "                     ('NGC 4535', 1961, 14.79),\n",
    "                     ('NGC 4536', 1804, 14.45),\n",
    "                     ('NGC 4548', 486, 15),\n",
    "                     ('NGC 4639', 1010, 20.99),\n",
    "                     ('NGC 4725', 1206, 11.91),\n",
    "                     ('NGC 5253', 404, 3.25),\n",
    "                     ('NGC 7331', 816, 14.52)],\n",
    "                    dtype=[('nome', 'U10'),\n",
    "                           ('v', 'float64'),\n",
    "                           ('d', 'float64')])\n",
    "v = galaxias['v']\n",
    "d = galaxias['d']"
   ]
  },
  {
   "cell_type": "markdown",
   "metadata": {},
   "source": [
    "**a.** Faça o gráfico dos pontos observados, usando a distância no eixo $x$ e a velocidade de afastamento no eixo $y$."
   ]
  },
  {
   "cell_type": "code",
   "execution_count": 2,
   "metadata": {
    "nbgrader": {
     "grade": true,
     "grade_id": "cell-849221f88e5b0571",
     "locked": false,
     "points": 1,
     "schema_version": 3,
     "solution": true,
     "task": false
    }
   },
   "outputs": [],
   "source": [
    "import matplotlib.pyplot as plt\n",
    "plt.style.use('ggplot')\n",
    "plt.rcParams['font.family'] = 'serif'\n",
    "plt.rcParams['mathtext.fontset'] = 'stix'"
   ]
  },
  {
   "cell_type": "code",
   "execution_count": 3,
   "metadata": {},
   "outputs": [
    {
     "data": {
      "image/png": "[encoded data removed]",
      "text/plain": [
       "<Figure size 432x288 with 1 Axes>"
      ]
     },
     "metadata": {},
     "output_type": "display_data"
    }
   ],
   "source": [
    "fig, ax = plt.subplots()\n",
    "ax.scatter(d,v)\n",
    "ax.set_xlabel\n",
    "ax.set_ylabel\n",
    "plt.show()"
   ]
  },
  {
   "cell_type": "markdown",
   "metadata": {},
   "source": [
    "**b.** Por incrível que pareça, Hubble tinha dados piores! Se o seu gráfico foi feito corretamente, você verá que existe uma certa tendência do redshift aumentar com a distância, com galáxias mais distantes se afastando com velocidades maiores. Para um astrofísico, uma tendência é mais que suficiente para justificar a busca por uma correlação, para derivar uma lei empírica. Se $v$ e $d$ formam uma relação linear, podemos escrever\n",
    "\n",
    "$$\n",
    "v(d) = v_0 + H_0\\,d,\n",
    "$$"
   ]
  },
  {
   "cell_type": "markdown",
   "metadata": {},
   "source": [
    "onde $v_0$ é a velocidade se $d=0$, e $H_0$ é a constante de proporcionalidade entre $v$ e $d$, em unidades de $[\\mathrm{km}\\,\\mathrm{s}^{-1}\\,\\mathrm{Mpc}^{-1}]$. Faça um ajuste linear e determine (e imprima) estes coeficientes. Faça também o gráfico mostrando o ajuste, para ter certeza de que o ajuste funcionou. Como não temos as incertezas, admita que os erros são iguais a 1."
   ]
  },
  {
   "cell_type": "code",
   "execution_count": 4,
   "metadata": {
    "nbgrader": {
     "grade": true,
     "grade_id": "cell-3b9fce9c2e4af951",
     "locked": false,
     "points": 2,
     "schema_version": 3,
     "solution": true,
     "task": false
    }
   },
   "outputs": [
    {
     "name": "stdout",
     "output_type": "stream",
     "text": [
      "68.52094248966661 140.7195943895426\n"
     ]
    }
   ],
   "source": [
    "S= 0.0\n",
    "Sx = 0.0\n",
    "Sy = 0.0\n",
    "Sxx = 0.0\n",
    "Sxy = 0.0\n",
    "N = len(d)\n",
    "\n",
    "for i in range(0, N):\n",
    "  S += 1\n",
    "  Sx += d[i]/1 \n",
    "  Sy += v[i]/1\n",
    "  Sxy += (d[i]*v[i])/1\n",
    "  Sxx += d[i]**2/1\n",
    "\n",
    "delta = S*Sxx - Sx**2\n",
    "h0 = (S*Sxy - Sx*Sy)/delta\n",
    "v0 = (Sxx*Sy - Sx*Sxy)/delta\n",
    "\n",
    "print(h0,v0)"
   ]
  },
  {
   "cell_type": "code",
   "execution_count": 5,
   "metadata": {},
   "outputs": [
    {
     "data": {
      "text/plain": [
       "[<matplotlib.lines.Line2D at 0x2015e2db790>]"
      ]
     },
     "execution_count": 5,
     "metadata": {},
     "output_type": "execute_result"
    },
    {
     "data": {
      "image/png": "[encoded data removed]",
      "text/plain": [
       "<Figure size 432x288 with 1 Axes>"
      ]
     },
     "metadata": {},
     "output_type": "display_data"
    }
   ],
   "source": [
    "def hubble(d):\n",
    "  return v0 + h0*d\n",
    "\n",
    "v_exp = np.zeros(len(v))\n",
    "\n",
    "for i in range(0, N):\n",
    "  v_exp[i] = hubble(d[i])\n",
    "\n",
    "fig, ax = plt.subplots()\n",
    "ax.scatter(d,v)\n",
    "ax.plot(d,v_exp)"
   ]
  },
  {
   "cell_type": "markdown",
   "metadata": {},
   "source": [
    "**c.** Calcule o *resíduo* do ajuste, isto é,\n",
    "\n",
    "\\begin{align}\n",
    "r^2 = \\frac{1}{N - M} \\sum_{i=0}^{N-1} \\left[v_i - v(d_i)\\right]^2,\n",
    "\\end{align}\n",
    "\n",
    "onde $M$ é o número de graus de liberdade, isto é, o número de parâmetros livres do modelo (neste caso, $M = 2$). O resíduo pode ser usado como uma estimativa grosseira do erro associado às medidas de velocidade."
   ]
  },
  {
   "cell_type": "code",
   "execution_count": 6,
   "metadata": {},
   "outputs": [
    {
     "name": "stdout",
     "output_type": "stream",
     "text": [
      "468.94006756774655\n"
     ]
    }
   ],
   "source": [
    "M = 2\n",
    "sum = 0.0\n",
    "for i in range(0, N):\n",
    "  sum += (v[i] - hubble(d[i]))**2\n",
    "\n",
    "r2 = 1/(N-M)*sum\n",
    "r = np.sqrt(r2)\n",
    "print(r)"
   ]
  },
  {
   "cell_type": "markdown",
   "metadata": {},
   "source": [
    "**d.** Repare que o coeficiente linear $v_0$ do ajuste é muito pequeno em comparação ao resíduo do modelo ajustado aos dados. Vamos considerar então que a nossa lei empírica é simplesmente\n",
    "\n",
    "$$\n",
    "v = H_0\\,d.\n",
    "$$"
   ]
  },
  {
   "cell_type": "markdown",
   "metadata": {},
   "source": [
    "Esta é a lei de Hubble–Lemaître, onde $H_0$ é a chamada *constante de Hubble*. Podemos agora explorar algumas consequências desta lei."
   ]
  },
  {
   "cell_type": "markdown",
   "metadata": {},
   "source": [
    "Suponha que a velocidade $v_i$ de cada galáxia, em primeira aproximação, é constante no tempo. Da cinemática, temos\n",
    "\n",
    "$$\n",
    "v_i = \\frac{d_i}{T_i},\n",
    "$$"
   ]
  },
  {
   "cell_type": "markdown",
   "metadata": {},
   "source": [
    "onde $T_i$ é o tempo que a galáxia levou para percorrer a distância $d_i$. Comparando com a lei empírica que determinamos,\n",
    "\n",
    "\\begin{align}\n",
    "v_i &= \\frac{d_i}{T_i} = H_0 d_i \\\\\n",
    "\\implies T_i &= \\frac{1}{H_0} \\equiv T.\n",
    "\\end{align}"
   ]
  },
  {
   "cell_type": "markdown",
   "metadata": {},
   "source": [
    "Isto é, o tempo que todas as galáxias viajaram é igual! Se voltarmos no tempo, estas galáxias se aproximam de nós até que, há um tempo $T$ atrás, $d_i=0$, para todas as galáxias. Em outras palavras, estas galáxias estavam exatamente sobre a nossa."
   ]
  },
  {
   "cell_type": "markdown",
   "metadata": {},
   "source": [
    "Você acabou de encontrar uma evidência de que, aparentemente, todas as galáxias do Universo estavam muito próximas, há um tempo $T = H_0^{-1}$ atrás, chamado *tempo de Hubble*. Esta evidência evoluiu para se tornar o modelo cosmológico do Big Bang."
   ]
  },
  {
   "cell_type": "markdown",
   "metadata": {},
   "source": [
    "Numa primeira aproximação, este tempo $T$ dá a idade do universo no modelo do Big Bang. Sabendo que $1\\,\\mathrm{Mpc} = 30.857 \\times 10^{18}\\,\\mathrm{km}$, calcule a idade do universo, segundo os nossos dados. Imprima o resultado em bilhões de anos (1 bilhão $=10^9$)."
   ]
  },
  {
   "cell_type": "markdown",
   "metadata": {},
   "source": [
    "*Nota*: Segundo a [colaboração Planck](https://www.aanda.org/articles/aa/full_html/2020/09/aa33910-18/T2.html), usando o modelo $\\Lambda\\mathrm{CDM}$ (que envolve a energia e matéria escura, expansão acelerada, etc.) em vez da nossa aproximação grosseira, a constante de Hubble é $H_0 = 67.66 \\pm 0.42\\,\\mathrm{km}\\,\\mathrm{s}^{-1}\\,\\mathrm{Mpc}^{-1}$, e a idade do universo é de $(13.787 \\pm 0.020) \\times 10^9$ anos."
   ]
  },
  {
   "cell_type": "code",
   "execution_count": 8,
   "metadata": {
    "nbgrader": {
     "grade": true,
     "grade_id": "cell-428da0e3074a0378",
     "locked": false,
     "points": 2,
     "schema_version": 3,
     "solution": true,
     "task": false
    }
   },
   "outputs": [
    {
     "name": "stdout",
     "output_type": "stream",
     "text": [
      "Idade do universo: 14.271467297584328 bilhões de anos\n"
     ]
    }
   ],
   "source": [
    "H0_km_s_Mpc = h0 \n",
    "H0_s = H0_km_s_Mpc / (3.086e19)  \n",
    "T_s = 1 / H0_s  \n",
    "T_anos = T_s / (60 * 60 * 24 * 365.25) \n",
    "T_bilhao_anos = T_anos / 1e9  \n",
    "\n",
    "print(\"Idade do universo:\", T_bilhao_anos, \"bilhões de anos\")"
   ]
  },
  {
   "cell_type": "code",
   "execution_count": null,
   "metadata": {},
   "outputs": [],
   "source": []
  }
 ],
 "metadata": {
  "celltoolbar": "Create Assignment",
  "kernelspec": {
   "display_name": "Python 3 (ipykernel)",
   "language": "python",
   "name": "python3"
  },
  "language_info": {
   "codemirror_mode": {
    "name": "ipython",
    "version": 3
   },
   "file_extension": ".py",
   "mimetype": "text/x-python",
   "name": "python",
   "nbconvert_exporter": "python",
   "pygments_lexer": "ipython3",
   "version": "3.9.12"
  }
 },
 "nbformat": 4,
 "nbformat_minor": 4
}
