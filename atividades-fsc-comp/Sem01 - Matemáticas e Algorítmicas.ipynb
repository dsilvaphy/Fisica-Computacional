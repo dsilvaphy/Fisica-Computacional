{
 "cells": [
  {
   "cell_type": "markdown",
   "metadata": {},
   "source": [
    "## Avaliação - semana 1\n",
    "### FSC5705 - Física Computacional\n",
    "### 13/03/2024\n"
   ]
  },
  {
   "cell_type": "markdown",
   "metadata": {},
   "source": [
    "### Item 1\n",
    "Podemos calcular a raiz quadrada de um número `float` utilizando o pacote `numpy`, fazendo"
   ]
  },
  {
   "cell_type": "code",
   "execution_count": null,
   "metadata": {},
   "outputs": [],
   "source": [
    "import numpy as np\n",
    "x = 81.0\n",
    "print(np.sqrt(x))"
   ]
  },
  {
   "cell_type": "markdown",
   "metadata": {},
   "source": [
    "Calcule $\\sqrt[4]{1728.8969}$."
   ]
  },
  {
   "cell_type": "code",
   "execution_count": 1,
   "metadata": {
    "nbgrader": {
     "grade": true,
     "grade_id": "raiz_quarta",
     "locked": false,
     "points": 1,
     "schema_version": 3,
     "solution": true,
     "task": false
    }
   },
   "outputs": [
    {
     "name": "stdout",
     "output_type": "stream",
     "text": [
      "A raiz quadrada de 1728.8969 é 41.5800\n"
     ]
    }
   ],
   "source": [
    "x = 1728.8969\n",
    "resultado = np.sqrt(x)\n",
    "print(f\"A raiz quadrada de {x} é {resultado:.4f}\")\n"
   ]
  },
  {
   "cell_type": "markdown",
   "metadata": {},
   "source": [
    "### Item 2\n",
    "Para pequenos valores de $x$, $\\sin x$ pode ser aproximado por\n",
    "\n",
    "$$\n",
    "\\sin x \\approx x\n",
    "$$\n",
    "\n",
    "onde $x$ está em radianos."
   ]
  },
  {
   "cell_type": "markdown",
   "metadata": {},
   "source": [
    "Calcule o valor do seno de $5^\\circ$, $10^\\circ$ e $20^\\circ$.\n",
    "Compare os valores desses ângulos com os valores devolvidos pela função `np.sin()`. Note que esta função toma um ângulo em radianos como argumento, utilize a constante `np.pi` para a conversão entre graus e radianos."
   ]
  },
  {
   "cell_type": "code",
   "execution_count": 3,
   "metadata": {
    "nbgrader": {
     "grade": true,
     "grade_id": "aproximar_seno",
     "locked": false,
     "points": 1,
     "schema_version": 3,
     "solution": true,
     "task": false
    }
   },
   "outputs": [
    {
     "name": "stdout",
     "output_type": "stream",
     "text": [
      "Para x = 0.05\n",
      "Seno aproximado: 0.05\n",
      "Seno real: 0.0500\n",
      "Erro relativo: 0.000417\n"
     ]
    }
   ],
   "source": [
    "x = 50e-3  # 50 x 10^-3\n",
    "seno_aproximado = x  # Aproximação\n",
    "seno_real = np.sin(x)  # Cálculo real\n",
    "\n",
    "print(f\"Para x = {x}\")\n",
    "print(f\"Seno aproximado: {seno_aproximado}\")\n",
    "print(f\"Seno real: {seno_real:.4f}\")\n",
    "print(f\"Erro relativo: {abs(seno_aproximado - seno_real) / seno_real:.6f}\")\n"
   ]
  },
  {
   "cell_type": "markdown",
   "metadata": {},
   "source": [
    "### Item 3\n",
    "A função abaixo deve receber um número `x` e retorná-lo *limitado* entre os valores `a` e `b`.\n",
    "\n",
    "```\n",
    "def clip(x, a, b):\n",
    "    # alguma lógica\n",
    "    return x\n",
    "```"
   ]
  },
  {
   "cell_type": "markdown",
   "metadata": {},
   "source": [
    "Escreva esta função utilizando as estruturas de controle `if`, `elif` e `else` conforme necessário.\n",
    "\n",
    "Demonstre o funcionamento da sua funçãp para os valores de `x` dados na lista `valores` abaixo."
   ]
  },
  {
   "cell_type": "code",
   "execution_count": null,
   "metadata": {
    "nbgrader": {
     "grade": true,
     "grade_id": "compara_valores",
     "locked": false,
     "points": 2,
     "schema_version": 3,
     "solution": true,
     "task": false
    }
   },
   "outputs": [],
   "source": [
    "valores = [8.65, 2.83, 12.01, 5.91, 4.48,\n",
    "           10.11, 10.01, 4.77, 7.05, -0.85]"
   ]
  },
  {
   "cell_type": "code",
   "execution_count": 5,
   "metadata": {
    "nbgrader": {
     "grade": true,
     "grade_id": "compara_valores",
     "locked": false,
     "points": 2,
     "schema_version": 3,
     "solution": true,
     "task": false
    }
   },
   "outputs": [
    {
     "name": "stdout",
     "output_type": "stream",
     "text": [
      "Valores originais: [8.65, 2.83, 12.01, 5.91, 4.48, 10.11, 10.01, 4.77, 7.05, -0.85]\n",
      "Valores clipados: [8.65, 5.0, 10.0, 5.91, 5.0, 10.0, 10.0, 5.0, 7.05, 5.0]\n"
     ]
    }
   ],
   "source": [
    "def clip(x, a, b):\n",
    "    if x < a:\n",
    "        return a\n",
    "    elif x > b:\n",
    "        return b\n",
    "    else:\n",
    "        return x\n",
    "\n",
    "valores = [8.65, 2.83, 12.01, 5.91, 4.48, 10.11, 10.01, 4.77, 7.05, -0.85]\n",
    "\n",
    "a = 5.0  \n",
    "b = 10.0  \n",
    "\n",
    "valores_clipados = [clip(x, a, b) for x in valores]\n",
    "\n",
    "print(\"Valores originais:\", valores)\n",
    "print(\"Valores clipados:\", valores_clipados)\n"
   ]
  },
  {
   "cell_type": "markdown",
   "metadata": {},
   "source": [
    "### Item 4\n",
    "Calcule explicitamente a soma dos números inteiros ímpares entre 200 e 1000.\n"
   ]
  },
  {
   "cell_type": "code",
   "execution_count": 8,
   "metadata": {
    "nbgrader": {
     "grade": true,
     "grade_id": "somatorio_inteiros",
     "locked": false,
     "points": 2,
     "schema_version": 3,
     "solution": true,
     "task": false
    }
   },
   "outputs": [
    {
     "name": "stdout",
     "output_type": "stream",
     "text": [
      "A soma dos números ímpares entre 200 e 1000 é: 240000\n"
     ]
    }
   ],
   "source": [
    "soma_impares = sum(x for x in range(201, 1000, 2))\n",
    "\n",
    "print(\"A soma dos números ímpares entre 200 e 1000 é:\", soma_impares)\n"
   ]
  },
  {
   "cell_type": "markdown",
   "metadata": {},
   "source": [
    "### Item 5\n",
    "Calcule o valor aproximado de $\\pi$, usando os $N$ primeiros termos da série\n",
    "\n",
    "$$\n",
    "\\frac{\\pi^2}{6} = \\frac{1}{1^2} + \\frac{1}{2^2} + \\frac{1}{3^2} + \\frac{1}{4^2} + \\ldots\n",
    "$$\n",
    "\n",
    "Estime o erro relativo em relação ao valor assintótico (usando a constante `np.pi`), para $N = 10, 100, 1000$.\n",
    "\n",
    "Dica: se você vai usar a função `range()`, note que `range(1, 50)` vai de 1 a 49. Para iterar de `A` até `B`, inclusive, é preciso fazer `range(A, B + 1)`."
   ]
  },
  {
   "cell_type": "code",
   "execution_count": 12,
   "metadata": {
    "nbgrader": {
     "grade": true,
     "grade_id": "aproximar_pi",
     "locked": false,
     "points": 2,
     "schema_version": 3,
     "solution": true,
     "task": false
    }
   },
   "outputs": [
    {
     "name": "stdout",
     "output_type": "stream",
     "text": [
      "Cálculo do valor aproximado de π e erros relativos:\n",
      "N = 10\n",
      "π aproximado: 3.0493616360\n",
      "Erro relativo: 2.9358044717e-02\n",
      "----------------------------------------\n",
      "N = 100\n",
      "π aproximado: 3.1320765318\n",
      "Erro relativo: 3.0290756409e-03\n",
      "----------------------------------------\n",
      "N = 1000\n",
      "π aproximado: 3.1406380562\n",
      "Erro relativo: 3.0385778459e-04\n",
      "----------------------------------------\n"
     ]
    }
   ],
   "source": [
    "def calcular_pi_aproximado(N):\n",
    "    \"\"\"\n",
    "    Calcula o valor aproximado de π utilizando os N primeiros termos da série.\n",
    "    \"\"\"\n",
    "    soma = sum(1 / (n ** 2) for n in range(1, N + 1))\n",
    "    pi_aproximado = (6 * soma) ** 0.5\n",
    "    return pi_aproximado\n",
    "\n",
    "def calcular_erro_relativo(pi_aproximado, pi_real):\n",
    "    \"\"\"\n",
    "    Calcula o erro relativo entre o valor aproximado de π e o valor real de π.\n",
    "    \"\"\"\n",
    "    erro_relativo = abs((pi_real - pi_aproximado) / pi_real)\n",
    "    return erro_relativo\n",
    "\n",
    "valores_N = [10, 100, 1000]\n",
    "pi_real = np.pi\n",
    "\n",
    "print(\"Cálculo do valor aproximado de π e erros relativos:\")\n",
    "for N in valores_N:\n",
    "    pi_aproximado = calcular_pi_aproximado(N)\n",
    "    erro_relativo = calcular_erro_relativo(pi_aproximado, pi_real)\n",
    "    print(f\"N = {N}\")\n",
    "    print(f\"π aproximado: {pi_aproximado:.10f}\")\n",
    "    print(f\"Erro relativo: {erro_relativo:.10e}\")\n",
    "    print(\"-\" * 40)\n"
   ]
  },
  {
   "cell_type": "markdown",
   "metadata": {},
   "source": [
    "### Item 6\n",
    "Calcule o fatorial de um número inteiro $n$. Verifique se o código funciona calculando $n!$ para $ 1 \\leq n \\leq 10$.\n",
    "\n",
    "Calcule também $200!$."
   ]
  },
  {
   "cell_type": "code",
   "execution_count": 14,
   "metadata": {
    "nbgrader": {
     "grade": true,
     "grade_id": "fatorial",
     "locked": false,
     "points": 2,
     "schema_version": 3,
     "solution": true,
     "task": false
    }
   },
   "outputs": [
    {
     "name": "stdout",
     "output_type": "stream",
     "text": [
      "1! = 1\n",
      "2! = 2\n",
      "3! = 6\n",
      "4! = 24\n",
      "5! = 120\n",
      "6! = 720\n",
      "7! = 5040\n",
      "8! = 40320\n",
      "9! = 362880\n",
      "10! = 3628800\n",
      "200! = 788657867364790503552363213932185062295135977687173263294742533244359449963403342920304284011984623904177212138919638830257642790242637105061926624952829931113462857270763317237396988943922445621451664240254033291864131227428294853277524242407573903240321257405579568660226031904170324062351700858796178922222789623703897374720000000000000000000000000000000000000000000000000\n"
     ]
    }
   ],
   "source": [
    "import math\n",
    "\n",
    "def calcular_fatorial(n):\n",
    "    if n < 0:\n",
    "        return \"O número deve ser não negativo\"\n",
    "    return math.factorial(n)\n",
    "\n",
    "# Testar para n entre 1 e 10\n",
    "for n in range(1, 11):\n",
    "    print(f\"{n}! = {calcular_fatorial(n)}\")\n",
    "\n",
    "# Calcular o fatorial de 200\n",
    "resultado_200_fatorial = calcular_fatorial(200)\n",
    "print(f\"200! = {resultado_200_fatorial}\")\n"
   ]
  },
  {
   "cell_type": "code",
   "execution_count": null,
   "metadata": {},
   "outputs": [],
   "source": []
  }
 ],
 "metadata": {
  "celltoolbar": "Create Assignment",
  "kernelspec": {
   "display_name": "Python 3 (ipykernel)",
   "language": "python",
   "name": "python3"
  },
  "language_info": {
   "codemirror_mode": {
    "name": "ipython",
    "version": 3
   },
   "file_extension": ".py",
   "mimetype": "text/x-python",
   "name": "python",
   "nbconvert_exporter": "python",
   "pygments_lexer": "ipython3",
   "version": "3.12.4"
  }
 },
 "nbformat": 4,
 "nbformat_minor": 4
}
